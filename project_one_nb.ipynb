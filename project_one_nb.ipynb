{
 "cells": [
  {
   "cell_type": "code",
   "execution_count": 1,
   "metadata": {},
   "outputs": [],
   "source": [
    "#Dependancies\n",
    "import requests\n",
    "import pandas as pd\n",
    "import json\n",
    "from config import college_scorecard_api_key"
   ]
  },
  {
   "cell_type": "code",
   "execution_count": 2,
   "metadata": {},
   "outputs": [],
   "source": [
    "# Call in 2017 'College Scorecard (i.e. csc)' API ; only schools that offer a bachelor's or graduate degree\n",
    "year = \"2017\"\n",
    "csc_url = \"https://api.data.gov/ed/collegescorecard/v1/schools.json?school.degrees_awarded.highest=3,4&\"\n",
    "\n",
    "csc_2017_query_url = f'{csc_url}api_key={college_scorecard_api_key}&_fields=id,school.name,school.city,school.state_fips,school.zip,location.lat,location.lon,{year}.aid.loan_principal'\n",
    "csc_2017_response = requests.get(csc_2017_query_url).json()\n",
    "page_num = csc_2017_response['metadata']['page']\n",
    "\n",
    "\n",
    "for page in range(0, 10):\n",
    "    csc_2017_response = requests.get(csc_2017_query_url, params={'page': page, 'per_page': 100}).json()\n",
    "    csc_json_data = csc_2017_response['results']\n",
    "    #print(str(csc_json_data))   \n"
   ]
  },
  {
   "cell_type": "code",
   "execution_count": 3,
   "metadata": {},
   "outputs": [
    {
     "data": {
      "text/html": [
       "<div>\n",
       "<style scoped>\n",
       "    .dataframe tbody tr th:only-of-type {\n",
       "        vertical-align: middle;\n",
       "    }\n",
       "\n",
       "    .dataframe tbody tr th {\n",
       "        vertical-align: top;\n",
       "    }\n",
       "\n",
       "    .dataframe thead th {\n",
       "        text-align: right;\n",
       "    }\n",
       "</style>\n",
       "<table border=\"1\" class=\"dataframe\">\n",
       "  <thead>\n",
       "    <tr style=\"text-align: right;\">\n",
       "      <th></th>\n",
       "      <th>school.zip</th>\n",
       "      <th>location.lat</th>\n",
       "      <th>location.lon</th>\n",
       "      <th>school.name</th>\n",
       "      <th>school.state_fips</th>\n",
       "      <th>id</th>\n",
       "      <th>school.city</th>\n",
       "      <th>2017.aid.loan_principal</th>\n",
       "    </tr>\n",
       "  </thead>\n",
       "  <tbody>\n",
       "    <tr>\n",
       "      <th>0</th>\n",
       "      <td>91711-3199</td>\n",
       "      <td>34.107602</td>\n",
       "      <td>-117.715256</td>\n",
       "      <td>Claremont School of Theology</td>\n",
       "      <td>6</td>\n",
       "      <td>124283</td>\n",
       "      <td>Claremont</td>\n",
       "      <td>NaN</td>\n",
       "    </tr>\n",
       "    <tr>\n",
       "      <th>1</th>\n",
       "      <td>90601</td>\n",
       "      <td>33.978773</td>\n",
       "      <td>-118.032299</td>\n",
       "      <td>Whittier College</td>\n",
       "      <td>6</td>\n",
       "      <td>125763</td>\n",
       "      <td>Whittier</td>\n",
       "      <td>18250.0</td>\n",
       "    </tr>\n",
       "    <tr>\n",
       "      <th>2</th>\n",
       "      <td>92618-3601</td>\n",
       "      <td>33.658464</td>\n",
       "      <td>-117.760902</td>\n",
       "      <td>Western State College of Law at Argosy University</td>\n",
       "      <td>6</td>\n",
       "      <td>126030</td>\n",
       "      <td>Irvine</td>\n",
       "      <td>15585.0</td>\n",
       "    </tr>\n",
       "    <tr>\n",
       "      <th>3</th>\n",
       "      <td>92101</td>\n",
       "      <td>32.710140</td>\n",
       "      <td>-117.154191</td>\n",
       "      <td>Thomas Jefferson School of Law</td>\n",
       "      <td>6</td>\n",
       "      <td>126049</td>\n",
       "      <td>San Diego</td>\n",
       "      <td>NaN</td>\n",
       "    </tr>\n",
       "    <tr>\n",
       "      <th>4</th>\n",
       "      <td>80302-6697</td>\n",
       "      <td>40.014235</td>\n",
       "      <td>-105.266987</td>\n",
       "      <td>Naropa University</td>\n",
       "      <td>8</td>\n",
       "      <td>127653</td>\n",
       "      <td>Boulder</td>\n",
       "      <td>16125.0</td>\n",
       "    </tr>\n",
       "    <tr>\n",
       "      <th>...</th>\n",
       "      <td>...</td>\n",
       "      <td>...</td>\n",
       "      <td>...</td>\n",
       "      <td>...</td>\n",
       "      <td>...</td>\n",
       "      <td>...</td>\n",
       "      <td>...</td>\n",
       "      <td>...</td>\n",
       "    </tr>\n",
       "    <tr>\n",
       "      <th>95</th>\n",
       "      <td>98033</td>\n",
       "      <td>47.657502</td>\n",
       "      <td>-122.195774</td>\n",
       "      <td>Northwest University-College of Adult and Prof...</td>\n",
       "      <td>53</td>\n",
       "      <td>487603</td>\n",
       "      <td>Kirkland</td>\n",
       "      <td>13000.0</td>\n",
       "    </tr>\n",
       "    <tr>\n",
       "      <th>96</th>\n",
       "      <td>22030-0000</td>\n",
       "      <td>38.849050</td>\n",
       "      <td>-77.347751</td>\n",
       "      <td>Virginia International University</td>\n",
       "      <td>51</td>\n",
       "      <td>460376</td>\n",
       "      <td>Fairfax</td>\n",
       "      <td>NaN</td>\n",
       "    </tr>\n",
       "    <tr>\n",
       "      <th>97</th>\n",
       "      <td>78224</td>\n",
       "      <td>29.304762</td>\n",
       "      <td>-98.524170</td>\n",
       "      <td>Texas A&amp;M University-San Antonio</td>\n",
       "      <td>48</td>\n",
       "      <td>459949</td>\n",
       "      <td>San Antonio</td>\n",
       "      <td>6700.0</td>\n",
       "    </tr>\n",
       "    <tr>\n",
       "      <th>98</th>\n",
       "      <td>38163</td>\n",
       "      <td>35.140231</td>\n",
       "      <td>-90.033138</td>\n",
       "      <td>The University of Tennessee Health Science Center</td>\n",
       "      <td>47</td>\n",
       "      <td>487010</td>\n",
       "      <td>Memphis</td>\n",
       "      <td>12500.0</td>\n",
       "    </tr>\n",
       "    <tr>\n",
       "      <th>99</th>\n",
       "      <td>92106</td>\n",
       "      <td>32.732001</td>\n",
       "      <td>-117.217661</td>\n",
       "      <td>High Tech High Graduate School of Education</td>\n",
       "      <td>6</td>\n",
       "      <td>485403</td>\n",
       "      <td>San Diego</td>\n",
       "      <td>NaN</td>\n",
       "    </tr>\n",
       "  </tbody>\n",
       "</table>\n",
       "<p>100 rows × 8 columns</p>\n",
       "</div>"
      ],
      "text/plain": [
       "    school.zip  location.lat  location.lon  \\\n",
       "0   91711-3199     34.107602   -117.715256   \n",
       "1        90601     33.978773   -118.032299   \n",
       "2   92618-3601     33.658464   -117.760902   \n",
       "3        92101     32.710140   -117.154191   \n",
       "4   80302-6697     40.014235   -105.266987   \n",
       "..         ...           ...           ...   \n",
       "95       98033     47.657502   -122.195774   \n",
       "96  22030-0000     38.849050    -77.347751   \n",
       "97       78224     29.304762    -98.524170   \n",
       "98       38163     35.140231    -90.033138   \n",
       "99       92106     32.732001   -117.217661   \n",
       "\n",
       "                                          school.name  school.state_fips  \\\n",
       "0                        Claremont School of Theology                  6   \n",
       "1                                    Whittier College                  6   \n",
       "2   Western State College of Law at Argosy University                  6   \n",
       "3                      Thomas Jefferson School of Law                  6   \n",
       "4                                   Naropa University                  8   \n",
       "..                                                ...                ...   \n",
       "95  Northwest University-College of Adult and Prof...                 53   \n",
       "96                  Virginia International University                 51   \n",
       "97                   Texas A&M University-San Antonio                 48   \n",
       "98  The University of Tennessee Health Science Center                 47   \n",
       "99        High Tech High Graduate School of Education                  6   \n",
       "\n",
       "        id  school.city  2017.aid.loan_principal  \n",
       "0   124283    Claremont                      NaN  \n",
       "1   125763     Whittier                  18250.0  \n",
       "2   126030       Irvine                  15585.0  \n",
       "3   126049    San Diego                      NaN  \n",
       "4   127653      Boulder                  16125.0  \n",
       "..     ...          ...                      ...  \n",
       "95  487603     Kirkland                  13000.0  \n",
       "96  460376      Fairfax                      NaN  \n",
       "97  459949  San Antonio                   6700.0  \n",
       "98  487010      Memphis                  12500.0  \n",
       "99  485403    San Diego                      NaN  \n",
       "\n",
       "[100 rows x 8 columns]"
      ]
     },
     "execution_count": 3,
     "metadata": {},
     "output_type": "execute_result"
    }
   ],
   "source": [
    "data_frame = pd.DataFrame(csc_json_data)\n",
    "data_frame"
   ]
  },
  {
   "cell_type": "code",
   "execution_count": null,
   "metadata": {},
   "outputs": [],
   "source": []
  },
  {
   "cell_type": "code",
   "execution_count": 4,
   "metadata": {},
   "outputs": [
    {
     "data": {
      "text/html": [
       "<div>\n",
       "<style scoped>\n",
       "    .dataframe tbody tr th:only-of-type {\n",
       "        vertical-align: middle;\n",
       "    }\n",
       "\n",
       "    .dataframe tbody tr th {\n",
       "        vertical-align: top;\n",
       "    }\n",
       "\n",
       "    .dataframe thead th {\n",
       "        text-align: right;\n",
       "    }\n",
       "</style>\n",
       "<table border=\"1\" class=\"dataframe\">\n",
       "  <thead>\n",
       "    <tr style=\"text-align: right;\">\n",
       "      <th></th>\n",
       "      <th>State Name</th>\n",
       "      <th>State Abbrev</th>\n",
       "      <th>State Code</th>\n",
       "    </tr>\n",
       "  </thead>\n",
       "  <tbody>\n",
       "    <tr>\n",
       "      <th>0</th>\n",
       "      <td>Alabama</td>\n",
       "      <td>AL</td>\n",
       "      <td>1</td>\n",
       "    </tr>\n",
       "    <tr>\n",
       "      <th>1</th>\n",
       "      <td>Alaska</td>\n",
       "      <td>AK</td>\n",
       "      <td>2</td>\n",
       "    </tr>\n",
       "    <tr>\n",
       "      <th>2</th>\n",
       "      <td>Arizona</td>\n",
       "      <td>AZ</td>\n",
       "      <td>4</td>\n",
       "    </tr>\n",
       "    <tr>\n",
       "      <th>3</th>\n",
       "      <td>Arkansas</td>\n",
       "      <td>AR</td>\n",
       "      <td>5</td>\n",
       "    </tr>\n",
       "    <tr>\n",
       "      <th>4</th>\n",
       "      <td>California</td>\n",
       "      <td>CA</td>\n",
       "      <td>6</td>\n",
       "    </tr>\n",
       "  </tbody>\n",
       "</table>\n",
       "</div>"
      ],
      "text/plain": [
       "   State Name State Abbrev  State Code\n",
       "0     Alabama           AL           1\n",
       "1      Alaska           AK           2\n",
       "2     Arizona           AZ           4\n",
       "3    Arkansas           AR           5\n",
       "4  California           CA           6"
      ]
     },
     "execution_count": 4,
     "metadata": {},
     "output_type": "execute_result"
    }
   ],
   "source": [
    "fips_path = \"Resources/State FIPS Codes.csv\"\n",
    "fips_states_df = pd.read_csv(fips_path)\n",
    "fips_codes = fips_states_df['State Code'].tolist()\n",
    "\n",
    "fips_states_df.head()"
   ]
  },
  {
   "cell_type": "code",
   "execution_count": null,
   "metadata": {},
   "outputs": [],
   "source": []
  },
  {
   "cell_type": "markdown",
   "metadata": {},
   "source": [
    "### Henock's Code - Start"
   ]
  },
  {
   "cell_type": "code",
   "execution_count": null,
   "metadata": {},
   "outputs": [],
   "source": []
  },
  {
   "cell_type": "code",
   "execution_count": null,
   "metadata": {},
   "outputs": [],
   "source": []
  },
  {
   "cell_type": "code",
   "execution_count": null,
   "metadata": {},
   "outputs": [],
   "source": []
  },
  {
   "cell_type": "markdown",
   "metadata": {},
   "source": [
    "### Henock's Code - End"
   ]
  },
  {
   "cell_type": "markdown",
   "metadata": {},
   "source": [
    "----------------------------------------------"
   ]
  },
  {
   "cell_type": "markdown",
   "metadata": {},
   "source": [
    "### JJ's Code - Start"
   ]
  },
  {
   "cell_type": "code",
   "execution_count": null,
   "metadata": {},
   "outputs": [],
   "source": []
  },
  {
   "cell_type": "code",
   "execution_count": null,
   "metadata": {},
   "outputs": [],
   "source": []
  },
  {
   "cell_type": "code",
   "execution_count": null,
   "metadata": {},
   "outputs": [],
   "source": []
  },
  {
   "cell_type": "markdown",
   "metadata": {},
   "source": [
    "### JJ's Code - End"
   ]
  },
  {
   "cell_type": "markdown",
   "metadata": {},
   "source": [
    "----------------------------------------------"
   ]
  },
  {
   "cell_type": "markdown",
   "metadata": {},
   "source": [
    "### Ana's Code - Start"
   ]
  },
  {
   "cell_type": "code",
   "execution_count": null,
   "metadata": {},
   "outputs": [],
   "source": []
  },
  {
   "cell_type": "code",
   "execution_count": null,
   "metadata": {},
   "outputs": [],
   "source": []
  },
  {
   "cell_type": "code",
   "execution_count": null,
   "metadata": {},
   "outputs": [],
   "source": []
  },
  {
   "cell_type": "markdown",
   "metadata": {},
   "source": [
    "### Ana's Code - End"
   ]
  },
  {
   "cell_type": "markdown",
   "metadata": {},
   "source": [
    "----------------------------------------------"
   ]
  },
  {
   "cell_type": "markdown",
   "metadata": {},
   "source": [
    "### Vikash's Code - Start"
   ]
  },
  {
   "cell_type": "code",
   "execution_count": null,
   "metadata": {},
   "outputs": [],
   "source": []
  },
  {
   "cell_type": "code",
   "execution_count": null,
   "metadata": {},
   "outputs": [],
   "source": []
  },
  {
   "cell_type": "code",
   "execution_count": null,
   "metadata": {},
   "outputs": [],
   "source": []
  },
  {
   "cell_type": "markdown",
   "metadata": {},
   "source": [
    "### Vikash's Code - End"
   ]
  }
 ],
 "metadata": {
  "kernelspec": {
   "display_name": "Python 3",
   "language": "python",
   "name": "python3"
  },
  "language_info": {
   "codemirror_mode": {
    "name": "ipython",
    "version": 3
   },
   "file_extension": ".py",
   "mimetype": "text/x-python",
   "name": "python",
   "nbconvert_exporter": "python",
   "pygments_lexer": "ipython3",
   "version": "3.6.9"
  }
 },
 "nbformat": 4,
 "nbformat_minor": 2
}
