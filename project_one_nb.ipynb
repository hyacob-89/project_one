{
 "cells": [
  {
   "cell_type": "code",
   "execution_count": null,
   "metadata": {},
   "outputs": [],
   "source": [
    "#Dependancies\n",
    "%matplotlib inline\n",
    "import matplotlib\n",
    "import requests\n",
    "import pandas as pd\n",
    "import numpy as np\n",
    "import json\n",
    "import csv\n",
    "#from pandas_profiling import ProfileReport\n",
    "import seaborn as sns\n",
    "sns.set(color_codes=True)\n",
    "from scipy import stats\n",
    "import os\n",
    "import seaborn as sb\n",
    "import matplotlib.pyplot as plt\n",
    "from config import college_scorecard_api_key\n",
    "import scipy.stats as stats\n"
   ]
  },
  {
   "cell_type": "markdown",
   "metadata": {},
   "source": [
    "***\n",
    "## Data Cleanup"
   ]
  },
  {
   "cell_type": "code",
   "execution_count": null,
   "metadata": {},
   "outputs": [],
   "source": [
    "# Call in 'College Scorecard (i.e. csc)' API ; only schools that offer a bachelor's or graduate degree\n",
    "csc_url = \"https://api.data.gov/ed/collegescorecard/v1/schools.json?school.degrees_awarded.highest=3,4&\"\n",
    "\n",
    "csc_2017_query_url = f'{csc_url}api_key={college_scorecard_api_key}&_fields=id,school.name,school.city,school.ownership,school.state_fips,school.zip,location.lat,location.lon,2017'\n",
    "csc_2017_response = requests.get(csc_2017_query_url).json()\n",
    "\n",
    "# Identify JSON page number\n",
    "csc_json_data = []\n",
    "\n",
    "# Loop through each JSON page and extract JSON data into a list\n",
    "for page in range(0, 29):\n",
    "    csc_2017_response = requests.get(csc_2017_query_url, params={'page': page, 'per_page': 100}).json()\n",
    "    csc_json_data.append(csc_2017_response['results'])\n",
    "\n",
    "    csc_data_list = []\n",
    "    for csc_data in csc_json_data:\n",
    "        for csc_objects in csc_data:\n",
    "            csc_data_list.append(csc_objects)\n",
    "\n",
    "# Convert JSON list into a Dataframe\n",
    "csc_data_frame = pd.DataFrame(csc_data_list)\n"
   ]
  },
  {
   "cell_type": "code",
   "execution_count": null,
   "metadata": {},
   "outputs": [],
   "source": [
    "# Pull columns needed\n",
    "csc_data_table_pull = csc_data_frame[['school.name',\n",
    "                                     'school.city',\n",
    "                                     'school.ownership',\n",
    "                                     'school.state_fips',\n",
    "                                     'location.lat',\n",
    "                                     'location.lon',\n",
    "                                     '2017.student.size',\n",
    "                                     '2017.cost.attendance.academic_year',\n",
    "                                     '2017.cost.tuition.in_state',\n",
    "                                     '2017.cost.tuition.out_of_state',\n",
    "                                     '2017.student.retention_rate.four_year.full_time',\n",
    "                                     '2017.aid.federal_loan_rate',\n",
    "                                     '2017.aid.loan_principal',\n",
    "                                     '2017.aid.median_debt.completers.overall',\n",
    "                                     '2017.aid.median_debt.income.0_30000',\n",
    "                                     '2017.aid.median_debt.income.30001_75000',\n",
    "                                     '2017.aid.median_debt.income.greater_than_75000',\n",
    "                                     '2017.aid.median_debt.female_students',\n",
    "                                     '2017.aid.median_debt.male_students',\n",
    "                                     '2017.completion.rate_suppressed.overall',\n",
    "                                     '2017.aid.median_debt.dependent_students',\n",
    "                                     '2017.aid.median_debt.independent_students']].dropna().reset_index(drop=True)\n",
    "\n",
    "# Clean column headers\n",
    "csc_data_table_header_clean = csc_data_table_pull.rename(columns = {'school.name': 'School Name',\n",
    "                                                                  'school.city': 'City',\n",
    "                                                                  'school.state_fips': 'State Code',\n",
    "                                                                  'school.ownership': 'Institution',\n",
    "                                                                  'location.lat': 'Latitude',\n",
    "                                                                  'location.lon': 'Longitude',\n",
    "                                                                  '2017.student.size': 'Student Size',\n",
    "                                                                  '2017.cost.attendance.academic_year': 'Cost of Attendance',\n",
    "                                                                  '2017.cost.tuition.in_state': 'In-State Tuition',\n",
    "                                                                  '2017.cost.tuition.out_of_state': 'Out-of-State Tuition',\n",
    "                                                                  '2017.student.retention_rate.four_year.full_time': 'Retention Rate: Fulltime Student',\n",
    "                                                                  '2017.aid.federal_loan_rate': '% of Undergrad Students Recieving Fed Student Loan',\n",
    "                                                                  '2017.aid.loan_principal': 'Median Loan Principal',\n",
    "                                                                  '2017.aid.median_debt.completers.overall': 'Median Debt',\n",
    "                                                                  '2017.aid.median_debt.income.0_30000': 'Median Debt with income between 0-30k',\n",
    "                                                                  '2017.aid.median_debt.income.30001_75000': 'Median Debt with income between 30,001-75k',\n",
    "                                                                  '2017.aid.median_debt.income.greater_than_75000': 'Median Debt with income greater than 75k',\n",
    "                                                                  '2017.aid.median_debt.female_students': 'Median Debt for Female Students',\n",
    "                                                                  '2017.aid.median_debt.male_students': 'Median Debt for Male Students',\n",
    "                                                                  '2017.completion.rate_suppressed.overall': 'Completion Rate',\n",
    "                                                                   '2017.aid.median_debt.dependent_students': \"Median Debt for Dependent Students\",\n",
    "                                                                   '2017.aid.median_debt.independent_students': 'Median Debt for Independent Students'})\n"
   ]
  },
  {
   "cell_type": "code",
   "execution_count": null,
   "metadata": {},
   "outputs": [],
   "source": [
    "# Pull in and merge State names.\n",
    "\n",
    "fips_path = \"Resources/State FIPS Codes.csv\"\n",
    "fips_states_df = pd.read_csv(fips_path)\n",
    "\n",
    "csc_data_final = pd.merge(csc_data_table_header_clean, fips_states_df, on='State Code')"
   ]
  },
  {
   "cell_type": "markdown",
   "metadata": {},
   "source": [
    "***\n",
    "## Question 1: Why does Alabama have the highest avg. median debt per capita?\n",
    "**Team Member:** Henock Yacob"
   ]
  },
  {
   "cell_type": "markdown",
   "metadata": {},
   "source": [
    "After going through the data exploration and clean-up process I wanted to begin comparing the data sets at the state level. My initial approach was to run a correlation test for median debt and cost of attendance, however it showed that very little correlation existed. So I decided to take a different approach to the data comparison."
   ]
  },
  {
   "cell_type": "code",
   "execution_count": null,
   "metadata": {},
   "outputs": [],
   "source": [
    "csc_data_50_states = csc_data_final.loc[csc_data_final[\"State Name\"] != 'District of Columbia', :]\n",
    "#csc_data_50_states"
   ]
  },
  {
   "cell_type": "code",
   "execution_count": null,
   "metadata": {
    "scrolled": false
   },
   "outputs": [],
   "source": [
    "# Group by State - Averages\n",
    "csc_grouped_data = csc_data_50_states.groupby(['State Name']).mean()\n",
    "\n",
    "# Avg. Cost of Attendance by State\n",
    "csc_sorted_data_ca = csc_grouped_data.sort_values('Cost of Attendance', ascending = False)\n",
    "avg_ca_by_state = csc_sorted_data_ca['Cost of Attendance'].reset_index()\n",
    "top_ten_avg_ca_by_state = avg_ca_by_state.head(10)\n",
    "\n",
    "fig, ax = plt.subplots(figsize = (7, 5))\n",
    "\n",
    "state_names_x = top_ten_avg_ca_by_state['State Name'].tolist()\n",
    "ca_debt_y = top_ten_avg_ca_by_state['Cost of Attendance'].tolist()\n",
    "y_pos = np.arange(len(state_names_x))\n",
    "\n",
    "ax.barh(y_pos, ca_debt_y, align='center')\n",
    "ax.set_yticks(y_pos)\n",
    "ax.set_yticklabels(state_names_x)\n",
    "ax.invert_yaxis() \n",
    "ax.set_xlabel('Cost of Attendance')\n",
    "ax.set_title('Avg. Cost of Attendance by State')\n",
    "plt.xlim(20000, max(ca_debt_y)+1000)\n",
    "plt.ylim(10, -1)\n",
    "plt.savefig(\"outputs/cost_by_state.png\")\n",
    "\n",
    "# Avg. Median Debt by State\n",
    "csc_sorted_data_md = csc_grouped_data.sort_values('Median Debt', ascending = False)\n",
    "avg_md_state = csc_sorted_data_md['Median Debt'].reset_index()\n",
    "top_ten_avg_md_by_state = avg_md_state.head(10)\n",
    "\n",
    "fig, ax = plt.subplots(figsize = (7, 5))\n",
    "\n",
    "state_names_x = top_ten_avg_md_by_state['State Name'].tolist()\n",
    "md_debt_y = top_ten_avg_md_by_state['Median Debt'].tolist()\n",
    "y_pos = np.arange(len(state_names_x))\n",
    "\n",
    "ax.barh(y_pos, md_debt_y, align='center')\n",
    "ax.set_yticks(y_pos)\n",
    "ax.set_yticklabels(state_names_x)\n",
    "ax.invert_yaxis() \n",
    "ax.set_xlabel('Median Debt')\n",
    "ax.set_title('Avg. Median Debt by State')\n",
    "plt.xlim(20000, max(md_debt_y)+1000)\n",
    "plt.ylim(10, -1)\n",
    "plt.savefig(\"outputs/debt_by_state.png\")"
   ]
  },
  {
   "cell_type": "markdown",
   "metadata": {},
   "source": [
    "#### Compared Top 10 States by Avg. Median Debt and Avg. Cost of Attendance\n",
    "\n",
    "I placed both data sets in a horizontal bar chart and sorted from highest to lowest, and I observed that the state with the highest median debt was also not the highest in avg. cost of attendance. In this case the two anomalies were Alabama (i.e. highest median debt) and Rhode Island (highest cost of attendance). "
   ]
  },
  {
   "cell_type": "code",
   "execution_count": null,
   "metadata": {},
   "outputs": [],
   "source": [
    "# Poulation data for t-Test\n",
    "\n",
    "csc_ca_population = csc_data_final['Cost of Attendance']\n",
    "csc_md_population = csc_data_final['Median Debt']\n",
    "\n",
    "# Scatter Plot of Data\n",
    "plt.subplot(2, 1, 1)\n",
    "plt.scatter(csc_ca_population, range(len(csc_ca_population)), label=\"Cost of Attendance\")\n",
    "plt.scatter(csc_md_population, range(len(csc_md_population)), label=\"Median Debt\")\n",
    "plt.legend()\n",
    "\n",
    "# Histogram Plot of Data\n",
    "plt.subplot(2, 1, 2)\n",
    "plt.hist(csc_ca_population, 15, density=False, alpha=0.7, label=\"Cost of Attendance\")\n",
    "plt.hist(csc_md_population, 15, density=False, alpha=0.7, label=\"Median Debt\")\n",
    "plt.axvline(csc_ca_population.mean(), color='k', linestyle='dashed', linewidth=1)\n",
    "plt.axvline(csc_md_population.mean(), color='k', linestyle='dashed', linewidth=1)\n",
    "plt.legend() \n",
    "plt.savefig(\"outputs/cost_to_debt_t_test.png\")"
   ]
  },
  {
   "cell_type": "code",
   "execution_count": null,
   "metadata": {},
   "outputs": [],
   "source": [
    "stats.ttest_ind(csc_ca_population, csc_md_population, equal_var=False)"
   ]
  },
  {
   "cell_type": "markdown",
   "metadata": {},
   "source": [
    "#### t-Test\n",
    "\n",
    "Before I went any further I ran a t-test to see how well my data sets were distributed. The avg. median debt data had a normal distribution, while the avg. cost of attendance data had a bi-modal distribution. This indicated that a good portion of the data had schools where a high cost of attendance and low median debt existed. In other words, as school costs increased, median debt stayed relativly the same (i.e. between 20k and 30k)."
   ]
  },
  {
   "cell_type": "code",
   "execution_count": null,
   "metadata": {},
   "outputs": [],
   "source": [
    "csc_al_and_ri_analysis = csc_data_50_states.groupby(['State Name']).mean()\n",
    "csc_al_and_ri_summary = csc_al_and_ri_analysis.loc[['Alabama', 'Rhode Island']].reset_index()\n",
    "\n",
    "\n",
    "ca_and_md_data = csc_al_and_ri_summary[['State Name', 'Cost of Attendance', 'Median Debt']]\n",
    "state_al_and_ri = ca_and_md_data['State Name'].tolist()\n",
    "ca_al_and_ri = ca_and_md_data['Cost of Attendance'].tolist()\n",
    "md_al_and_ri = ca_and_md_data['Median Debt'].tolist()\n",
    "\n",
    "x = np.arange(len(state_al_and_ri))\n",
    "width = 0.35\n",
    "\n",
    "fig, ax = plt.subplots()\n",
    "rects1 = ax.bar(x - width/2, ca_al_and_ri, width, label='Cost of Attendance')\n",
    "rects2 = ax.bar(x + width/2, md_al_and_ri, width, label='Median Debt')\n",
    "\n",
    "ax.set_ylabel('Amounts')\n",
    "ax.set_title('Alabama and Rhode Island: Cost to Debt Comparison')\n",
    "ax.set_xticks(x)\n",
    "ax.set_xticklabels(state_al_and_ri)\n",
    "ax.legend()\n",
    "plt.savefig(\"outputs/al_ri_cost_to_debt_compare.png\")"
   ]
  },
  {
   "cell_type": "markdown",
   "metadata": {},
   "source": [
    "#### Compared the top states in both categories.\n",
    "\n",
    "After the t-Test i decided to visualize the top states in both categories to compare thier values. This perspective clearly shows that there is trend among schools with high attendance costs and schools with low attendance costs."
   ]
  },
  {
   "cell_type": "markdown",
   "metadata": {},
   "source": [
    "#### Key Findings:\n",
    "* Students that attended more expensive schools may have had additional forms of funding to help cover the costs of attendance.\n",
    "* Its possible that students that were closer to the poverty line, had a cost to debt ratio closer to 1. Meaning all of the debt is utilizaed towards the costs of attendence. Conversely, higher costs schools will show proportionaly lower median debt."
   ]
  },
  {
   "cell_type": "markdown",
   "metadata": {},
   "source": [
    "### Henock's Code - End"
   ]
  },
  {
   "cell_type": "markdown",
   "metadata": {},
   "source": [
    "----------------------------------------------"
   ]
  },
  {
   "cell_type": "markdown",
   "metadata": {},
   "source": [
    "### JJ's Code - Start"
   ]
  },
  {
   "cell_type": "markdown",
   "metadata": {},
   "source": [
    "# Calculate the average median debt of each family income category for each institutional type?"
   ]
  },
  {
   "cell_type": "code",
   "execution_count": null,
   "metadata": {},
   "outputs": [],
   "source": [
    "# rename the institution values and insert into the dataframe\n",
    "csc_data_final.Institution.replace(to_replace = {1: 'Public', 2: 'Private Nonprofit', 3: 'Private For-Profit'}, inplace = True)\n",
    "\n",
    "csc_data_final['Institution'] = pd.Categorical(csc_data_final.Institution, categories = ['Public', 'Private Nonprofit', \n",
    "                                                                                     'Private For-Profit'],\n",
    "                                    ordered = False)"
   ]
  },
  {
   "cell_type": "code",
   "execution_count": null,
   "metadata": {},
   "outputs": [],
   "source": [
    "csc_data_final['Institution'].value_counts()\n"
   ]
  },
  {
   "cell_type": "code",
   "execution_count": null,
   "metadata": {},
   "outputs": [],
   "source": [
    "  \n",
    "# 0 -30k - The number of students in the median debt low-income (less than or equal to $30,000 in nominal family income) students cohort\n",
    "# 30 -75K - The number of students in the median debt middle-income (between $30,000 and $75,000 in nominal family income) students cohort\n",
    "# 75K or greater - The number of students in the median debt high-income (above $75,000 in nominal family income) students cohort\n",
    "\n",
    "avg_median_debt_pd = csc_data_final[[\"Institution\", \"Median Debt with income between 0-30k\", \n",
    "                                    \"Median Debt with income between 30,001-75k\",\n",
    "                                   \"Median Debt with income greater than 75k\" ]]\n"
   ]
  },
  {
   "cell_type": "code",
   "execution_count": null,
   "metadata": {},
   "outputs": [],
   "source": [
    "# group the institution type\n",
    "\n",
    "group_avg_median_debt_pd =round( avg_median_debt_pd.groupby(\"Institution\").mean(), 2)\n",
    "group_avg_median_debt_pd"
   ]
  },
  {
   "cell_type": "code",
   "execution_count": null,
   "metadata": {},
   "outputs": [],
   "source": [
    "# Plot the graph\n",
    "group_avg_median_debt_pd.plot(kind = 'bar',  rot=0,\n",
    "             figsize = (20,10))\n",
    "           \n",
    "\n",
    "plt.title('Average Median Debts for Each family Income Category VS Institution Type')\n",
    "#save the figure\n",
    "plt.savefig(\"Resources/DebtFamilyIncVSInst.png\")"
   ]
  },
  {
   "cell_type": "markdown",
   "metadata": {},
   "source": [
    "From the result, we found that students from private schools have the highest median debt out of the three school types. Within each school type, students with family income ranging from \\$30,000-\\$70,001 (shown in the orange) have the highest median debt out of the three income groups."
   ]
  },
  {
   "cell_type": "code",
   "execution_count": null,
   "metadata": {},
   "outputs": [],
   "source": [
    "male_fem_median_debt_pd = csc_data_final[[\"Institution\", \"Median Debt for Female Students\", \"Median Debt for Male Students\"]]\n"
   ]
  },
  {
   "cell_type": "code",
   "execution_count": null,
   "metadata": {},
   "outputs": [],
   "source": [
    "gp_avg_male_fem_median_debt_pd =round( male_fem_median_debt_pd.groupby(\"Institution\").mean(), 2)\n",
    "gp_avg_male_fem_median_debt_pd"
   ]
  },
  {
   "cell_type": "markdown",
   "metadata": {},
   "source": [
    "# Calculate the average median debt of Male and Female Students Vs each institutional type?"
   ]
  },
  {
   "cell_type": "code",
   "execution_count": null,
   "metadata": {},
   "outputs": [],
   "source": [
    "# Plot the graphs\n",
    "\n",
    "gp_avg_male_fem_median_debt_pd.plot(kind = 'bar',  rot=0, color='rg', \n",
    "             figsize = (20,10))\n",
    "           \n",
    "\n",
    "\n",
    "\n",
    "plt.title('Average Median Debts for male and Female VS Institution Type')\n",
    "#save the figure\n",
    "plt.savefig(\"Resources/DebtMaleFemaleVSInst.png\")"
   ]
  },
  {
   "cell_type": "markdown",
   "metadata": {},
   "source": [
    "we can see that the average median debts for female is higher in both public and private institution where in private fro profit it is slightly lower"
   ]
  },
  {
   "cell_type": "code",
   "execution_count": null,
   "metadata": {},
   "outputs": [],
   "source": [
    "# most common type of governance structure in the US across institutes?\n",
    "# plot\n",
    "plt.figure(figsize = (7, 5))\n",
    "sb.countplot(data = csc_data_final, x = 'Institution')\n",
    "\n",
    "# annotate\n",
    "n_points = csc_data_final.shape[0]\n",
    "cat_counts = csc_data_final.Institution.value_counts()\n",
    "locs, labels = plt.xticks()                # get current tick locations and labels\n",
    "\n",
    "    \n",
    "# label\n",
    "plt.title('Distribution of Governance Structure across Institutes', fontsize = 14)\n",
    "plt.xticks(fontsize = 12)\n",
    "plt.xlabel(\"Institution\", fontsize = 13)\n",
    "plt.ylabel('Count', fontsize = 14);\n",
    "\n",
    "plt.savefig(\"Resources/MostCommonStructure.png\")"
   ]
  },
  {
   "cell_type": "code",
   "execution_count": null,
   "metadata": {},
   "outputs": [],
   "source": []
  },
  {
   "cell_type": "markdown",
   "metadata": {},
   "source": [
    "### JJ's Code - End"
   ]
  },
  {
   "cell_type": "markdown",
   "metadata": {},
   "source": [
    "----------------------------------------------"
   ]
  },
  {
   "cell_type": "markdown",
   "metadata": {},
   "source": [
    "### Ana's Code - Start"
   ]
  },
  {
   "cell_type": "markdown",
   "metadata": {},
   "source": [
    "According to the latest student loan debt statistics, student loan debt is now the second highest consumer debt category - second only to mortgages and higher than credit card debt. There are more than 44 million borrowers who collectively owe 1.6 trillion in student loan debt. We took a look at how that debt is geographically distributed across the US. The Department of Education's Office for Federal Student Aid publishes quarterly student debt totals and the number of borrowers for each state. Using that data, we found the total student-debt median in each state, along with the median per gender of barrowers."
   ]
  },
  {
   "cell_type": "code",
   "execution_count": null,
   "metadata": {},
   "outputs": [],
   "source": [
    "plt.close()"
   ]
  },
  {
   "cell_type": "markdown",
   "metadata": {},
   "source": [
    "## Which is the gender distribution of median Debt comparing with the total median Debt?"
   ]
  },
  {
   "cell_type": "code",
   "execution_count": null,
   "metadata": {},
   "outputs": [],
   "source": [
    "#Read the columns we need for building a plot\n",
    "csc_data_finaly =pd.DataFrame(csc_data_final.groupby(['State Name'])['Median Debt', 'Median Debt for Female Students', 'Median Debt for Male Students' ].mean())\n",
    "csc_data_finaly =csc_data_finaly.reset_index()\n",
    "\n",
    "#plot\n",
    "ax = csc_data_finaly.plot(x=\"State Name\", y=\"Median Debt\", kind=\"bar\",figsize=(15,6))\n",
    "csc_data_finaly.plot(x=\"State Name\", y=\"Median Debt for Female Students\", kind=\"bar\", ax=ax, color=\"C2\")\n",
    "csc_data_finaly.plot(x=\"State Name\", y=\"Median Debt for Male Students\", kind=\"bar\", ax=ax, color=\"C3\")\n",
    "\n",
    "plt.show()\n",
    "plt.savefig('outputs/MedianFemalMale.png')"
   ]
  },
  {
   "cell_type": "markdown",
   "metadata": {},
   "source": [
    " This plot is showing that nationally there are more women with debt than men. Also, we can see the total Median Debt by state.  In 52 states, the average debt is more than $20,000 bilion . Alabama residents owe 26.7 billion dollars in student loan debt on avarage. Alaska residents, for example, owe less than 20 billion in student loan debt on avarage.\n"
   ]
  },
  {
   "cell_type": "code",
   "execution_count": null,
   "metadata": {},
   "outputs": [],
   "source": [
    "plt.close()"
   ]
  },
  {
   "cell_type": "code",
   "execution_count": null,
   "metadata": {},
   "outputs": [],
   "source": [
    "plt.close()"
   ]
  },
  {
   "cell_type": "markdown",
   "metadata": {},
   "source": [
    "# What is the T-test for the mean of ONE group for 'Median Debd'?\n",
    "### The Ho is : The population and the sample of the population have equal avarages of Median Debd"
   ]
  },
  {
   "cell_type": "code",
   "execution_count": null,
   "metadata": {},
   "outputs": [],
   "source": [
    "\n",
    "# Generate some data to test with\n",
    "def gendata(loc=0):\n",
    "    population = csc_data_final['Median Debt']\n",
    "    sample = population.sample(frac =.25) \n",
    "    \n",
    "    # Scatter Plot of Data\n",
    "    plt.subplot(2, 1, 1)\n",
    "    plt.scatter(range(len(population)), population, label=\"population\")\n",
    "    plt.scatter(range(len(sample)), sample, label=\"sample\")\n",
    "    plt.legend()\n",
    "\n",
    "    # Histogram Plot of Data\n",
    "    plt.subplot(2, 1, 2)\n",
    "    plt.hist(population, 20, density=True, alpha=0.7, label=\"population\")\n",
    "    plt.hist(sample, 20, density=True, alpha=0.7, label=\"sample\")\n",
    "    plt.axvline(population.mean(), color='k', linestyle='dashed', linewidth=1)\n",
    "    plt.axvline(sample.mean(), color='k', linestyle='dashed', linewidth=1)\n",
    "    plt.legend()  \n",
    "    \n",
    "    return population, sample"
   ]
  },
  {
   "cell_type": "code",
   "execution_count": null,
   "metadata": {},
   "outputs": [],
   "source": [
    "# Generate some data and show the scatter plot\n",
    "population, sample = gendata()\n",
    "#plt.show()\n",
    "plt.savefig('outputs/T-test1.png')"
   ]
  },
  {
   "cell_type": "code",
   "execution_count": null,
   "metadata": {},
   "outputs": [],
   "source": [
    "stats.ttest_1samp(sample, population.mean())"
   ]
  },
  {
   "cell_type": "code",
   "execution_count": null,
   "metadata": {},
   "outputs": [],
   "source": [
    "# Generate data with a bigger difference in means\n",
    "population, sample = gendata(loc=10000)\n",
    "plt.savefig('outputs/T-test2.png')"
   ]
  },
  {
   "cell_type": "code",
   "execution_count": null,
   "metadata": {},
   "outputs": [],
   "source": [
    "stats.ttest_1samp(sample, population.mean())"
   ]
  },
  {
   "cell_type": "markdown",
   "metadata": {},
   "source": [
    "#### This is a two-sided test for the null hypothesis that the expected value (mean) of a sample of independent observations a is equal to the given population mean. p_value> 0.05. We fail to reject the null hypothesis."
   ]
  },
  {
   "cell_type": "code",
   "execution_count": null,
   "metadata": {},
   "outputs": [],
   "source": [
    "plt.close()"
   ]
  },
  {
   "cell_type": "code",
   "execution_count": null,
   "metadata": {},
   "outputs": [],
   "source": [
    "plt.close()"
   ]
  },
  {
   "cell_type": "markdown",
   "metadata": {},
   "source": [
    "# Which is the distribution of student Debt by Age and Location?"
   ]
  },
  {
   "cell_type": "code",
   "execution_count": null,
   "metadata": {},
   "outputs": [],
   "source": [
    "#Portfolio-by-Location-by-Age\n",
    "data5_df = pd.read_csv(\"Resources/Portfolio-by-Location-by-Age.csv\")\n",
    "data5_df.rename(columns = {' ' : 'Location',\n",
    "                              '24 - Younger':'24 or Younger Dollars Outstanding (in billions)',\n",
    "                              'Unnamed: 2':'24 or Younger Barrowers(#)(in millions)',\n",
    "                              '25 -34' :'25 to 34 Dollars Outstanding(in billions)',\n",
    "                              'Unnamed: 4' :'25 to 34 Barrowers(#)(in millions)',\n",
    "                              '35 - 49' :'35 to 49 Dollars Outstanding(in billions)',\n",
    "                              'Unnamed: 6' :'35 to 49 Barrowers(#)(in millions)',\n",
    "                              '50 -61' :'50 to 61 Dollars Outstanding(in billions)',\n",
    "                              'Unnamed: 8' :'50 to 61 Barrowers(#)(in millions)',\n",
    "                              '62 - Older' :'62+Dollars Outstanding(in billions)',\n",
    "                              'Unnamed: 10' :'62+Barrowers(#)(in millions)'\n",
    "                              }, inplace = True)\n",
    "data5_df = data5_df.drop(data5_df.index[0])\n",
    "data5_df = data5_df.drop(data5_df.index[53])\n",
    "data = list(data5_df.columns.values)\n",
    "#print(data[1:])\n",
    "data5_df[data[1:]]\n",
    "data5_df[data[1:]] = data5_df[data[1:]].replace('[\\$,]','', regex=True).astype(float)\n",
    "data5_df = data5_df.drop(data5_df.index[52])\n",
    "data5_df.tail()\n",
    "ax = data5_df.plot(x=\"Location\", y=\"24 or Younger Dollars Outstanding (in billions)\", kind=\"bar\",figsize=(16,4))\n",
    "data5_df.plot(x=\"Location\", y=\"25 to 34 Dollars Outstanding(in billions)\", kind=\"bar\", ax=ax, color=\"C2\")\n",
    "data5_df.plot(x=\"Location\", y=\"35 to 49 Dollars Outstanding(in billions)\", kind=\"bar\", ax=ax, color=\"C3\")\n",
    "data5_df.plot(x=\"Location\", y=\"50 to 61 Dollars Outstanding(in billions)\", kind=\"bar\", ax=ax, color=\"C4\")\n",
    "data5_df.plot(x=\"Location\", y=\"62+Dollars Outstanding(in billions)\", kind=\"bar\", ax=ax, color=\"C5\")\n",
    "\n",
    "plt.show()\n",
    "plt.savefig('outputs/DollarsOutstandindByAgeLocation.png')"
   ]
  },
  {
   "cell_type": "markdown",
   "metadata": {},
   "source": [
    "Rounding out the five states with the most student debt in total are California, Texas, New York, Florida, and Georgia, in that order. On the flip side, Wyoming has the least debt in total ($3,610), which is 33.0 lower than the national average. Hawaii follows right behind at ($3,780), and 29.9% below the national average."
   ]
  },
  {
   "cell_type": "code",
   "execution_count": null,
   "metadata": {},
   "outputs": [],
   "source": [
    "plt.close()"
   ]
  },
  {
   "cell_type": "code",
   "execution_count": null,
   "metadata": {},
   "outputs": [],
   "source": []
  },
  {
   "cell_type": "code",
   "execution_count": null,
   "metadata": {},
   "outputs": [],
   "source": [
    "plt.close()"
   ]
  },
  {
   "cell_type": "code",
   "execution_count": null,
   "metadata": {},
   "outputs": [],
   "source": [
    "data1_df = pd.read_csv(\"Resources/5StatesData.csv\")\n",
    "data1_df = data1_df.dropna()\n",
    "data1_df.tail()"
   ]
  },
  {
   "cell_type": "code",
   "execution_count": null,
   "metadata": {},
   "outputs": [],
   "source": [
    "#Per capita debt of graduates over time\n",
    "fig = plt.figure()\n",
    "# Divide the figure into a 2x1 grid, and give me the first section\n",
    "ax1 = fig.add_subplot(211)\n",
    "# Divide the figure into a 2x1 grid, and give me the second section\n",
    "ax2 = fig.add_subplot(212)\n",
    "\n",
    "#Line plot \n",
    "data1_df.groupby('Name').plot(x='Year', y='Per capita debt of graduates', ax=ax1, figsize= (15,8))\n",
    "ax1.set_ylim((0,35000))\n",
    "ax1.xaxis.set_label_text(\"Year\")\n",
    "ax1.set_title(\"Per capita debt of graduates over time\")\n",
    "fig.legend(['California', 'Florida', 'Massachusetts','Minnesota','Washington'],\n",
    "           loc='upper right')\n",
    "\n",
    "\n",
    "#Bar Plot\n",
    "data1_df.groupby('Name')['Per capita debt of graduates'].mean().sort_values().plot(kind='barh', ax=ax2, figsize=(15,8))\n",
    "ax2.yaxis.set_label_text(\"States\")\n",
    "ax2.xaxis.set_label_text(\"Volume of Debt\")\n",
    "ax2.set_title(\"Per capita debt of graduates on average\")\n",
    "fig.subplots_adjust(hspace=0.5)\n",
    "plt.savefig('outputs/PerCapitaDebt.png')"
   ]
  },
  {
   "cell_type": "markdown",
   "metadata": {},
   "source": [
    "Rounding out the states with  student debt per capita, we find that Minnesota is among leaders.\n",
    "Interestingly, a growing population on the West Coast helps to lower the debt burden for states like California, even despite the strong presence of prestigious schools. Home to Stanford, USC, UCLA, CalTech, and more, the Golden State surprisingly has only around $10,000 bilions in debt per capita."
   ]
  },
  {
   "cell_type": "code",
   "execution_count": null,
   "metadata": {},
   "outputs": [],
   "source": [
    "plt.close()"
   ]
  },
  {
   "cell_type": "code",
   "execution_count": null,
   "metadata": {
    "scrolled": true
   },
   "outputs": [],
   "source": [
    "# Calculate the correlation coefficient and linear regression model for Cost of Attendance and Out-of-State Tuition\n",
    "one_df = csc_data_final['Cost of Attendance']\n",
    "two_df = csc_data_final['Out-of-State Tuition']\n",
    "\n",
    "(slope, intercept, rvalue, pvalue, stderr) = stats.linregress(one_df,two_df)\n",
    "y = regress_values = one_df * slope + intercept\n",
    "print(regress_values)\n",
    "\n",
    "# Create line equation \n",
    "line_eq = \"y = \" + str(round(slope,2)) + \"x + \" + str(round(intercept,2))\n",
    "print(line_eq)\n",
    "\n",
    "# Plot the linear model with scatter plot\n",
    "plt.figure(figsize=(8,6))\n",
    "plt.scatter(one_df, two_df)\n",
    "f1 = plt.plot(one_df, regress_values, 'r--', alpha=0.2)\n",
    "\n",
    "# Label plot and annotate the line equation\n",
    "plt.annotate(line_eq,(50000,10000),fontsize=15,color=\"red\")\n",
    "plt.xlabel('Cost of Attendance', size=15)\n",
    "plt.ylabel('Out-of-State Tuition', size=15)\n",
    "plt.title('Cost of Attendance vs Out-of-State Tuition', size=15)\n",
    "plt.xticks(size=12)\n",
    "plt.yticks(size=12)\n",
    "print(f\"The correlation between Cost of Attendance and  Out-of-State Tuition is: {rvalue}\")\n",
    "\n",
    "plt.show()\n",
    "plt.savefig('outputs/CostOfAttendanceVSInStateTuition.png')"
   ]
  },
  {
   "cell_type": "code",
   "execution_count": null,
   "metadata": {},
   "outputs": [],
   "source": [
    "# Calculate the correlation coefficient and linear regression model for Cost of Attendance and In-State Tuition\n",
    "one1_df = csc_data_final['Cost of Attendance']\n",
    "two1_df = csc_data_final['In-State Tuition']\n",
    "\n",
    "(slope, intercept, rvalue, pvalue, stderr) = stats.linregress(one1_df,two1_df)\n",
    "y1 = regress_values = one1_df * slope + intercept\n",
    "print(regress_values)\n",
    "\n",
    "# Create line equation \n",
    "line_eq = \"y = \" + str(round(slope,2)) + \"x + \" + str(round(intercept,2))\n",
    "print(line_eq)\n",
    "\n",
    "# Plot the linear model with scatter plot\n",
    "plt.figure(figsize=(8,6))\n",
    "f2 = plt.scatter(one1_df, two1_df)\n",
    "plt.plot(one1_df, regress_values, 'r--', alpha=0.2)\n",
    "\n",
    "# Label plot and annotate the line equation\n",
    "plt.annotate(line_eq,(50000,10000),fontsize=15,color=\"red\")\n",
    "plt.xlabel('Cost of Attendance', size=15)\n",
    "plt.ylabel('In-State Tuition', size=15)\n",
    "plt.title('Cost of Attendance vs In-State Tuition', size=15)\n",
    "plt.xticks(size=12)\n",
    "plt.yticks(size=12)\n",
    "print(f\"The correlation between Cost of Attendance and  In-State Tuition is: {rvalue}\")\n",
    "\n",
    "plt.show()\n",
    "plt.savefig('outputs/CostOfAttendanceVSOutofStateTuition.png')"
   ]
  },
  {
   "cell_type": "markdown",
   "metadata": {},
   "source": [
    " The resulting data frame consists of 1747 observations. As seen from the scatterplot, a school’s Cost of Attendance is positively associated with its In-State Tuition and Out-of-State Tuition. This is consistent with what we hypothesized since it’s well understood that an increase of the Cost of Atttendace will generate an increase of the tuition as well.  The hight r-squarred of 0.89( and 0.98 respectivley for In State Tuition) confirm that this relationship has a significant correlation. The coefficients we obtained from this simple linear regression analysis using statsmodels package tell us that an increase of 10 000 points  in Cost of Attendance is associated with an increase in tuition by around 10 000 points as well."
   ]
  },
  {
   "cell_type": "code",
   "execution_count": null,
   "metadata": {},
   "outputs": [],
   "source": [
    "\n"
   ]
  },
  {
   "cell_type": "code",
   "execution_count": null,
   "metadata": {},
   "outputs": [],
   "source": [
    "# Calculate the correlation coefficient and linear regression model for Cost of Attendance and Median Debt with income greater than 75k\n",
    "one3_df = csc_data_final['Cost of Attendance']\n",
    "two3_df = csc_data_final['Median Debt with income greater than 75k']\n",
    "\n",
    "(slope, intercept, rvalue, pvalue, stderr) = stats.linregress(one3_df,two3_df)\n",
    "y3 = regress_values = one3_df * slope + intercept\n",
    "print(regress_values)\n",
    "\n",
    "# Create line equation \n",
    "line_eq = \"y = \" + str(round(slope,2)) + \"x + \" + str(round(intercept,2))\n",
    "print(line_eq)\n",
    "\n",
    "# Plot the linear model with scatter plot\n",
    "plt.figure(figsize=(8,6))\n",
    "plt.scatter(one3_df, two3_df)\n",
    "f3 = plt.plot(one3_df, regress_values, 'r--', alpha=0.2, ax=ax[0][0])\n",
    "\n",
    "# Label plot and annotate the line equation\n",
    "plt.annotate(line_eq,(50000,10000),fontsize=15,color=\"red\")\n",
    "plt.xlabel('Cost of Attendance', size=15)\n",
    "plt.ylabel('Median Debt with income greater than 75k', size=15)\n",
    "plt.title('Cost of Attendance vs Median Debt with income greater than 75k', size=15)\n",
    "plt.xticks(size=12)\n",
    "plt.yticks(size=12)\n",
    "print(f\"The correlation between Cost of Attendance and  Median Debt with income greater than 75k is: {rvalue}\")\n",
    "\n",
    "plt.show()\n",
    "plt.savefig('outputs/CostofAttendanceVSMedianDebtwithIncomeGreaterThan75k.png')"
   ]
  },
  {
   "cell_type": "markdown",
   "metadata": {},
   "source": [
    "### I was interested to analyse this relation because I was thinking that an increase in the Cost of Attendance will be easier for the upper class to pay this cost.\n",
    "### The low p-value confirms that this relationship is statistically significant"
   ]
  },
  {
   "cell_type": "code",
   "execution_count": null,
   "metadata": {
    "scrolled": true
   },
   "outputs": [],
   "source": [
    "one4_df = csc_data_final['Completion Rate']\n",
    "two4_df = csc_data_final['Cost of Attendance']\n",
    "\n",
    "fig, ax = plt.subplots(figsize=(6,4))\n",
    "ax.scatter(one4_df, two4_df )\n",
    "ax.set_xlabel('Completion Rate ',fontsize=12)\n",
    "ax.set_ylabel('Cost of Attendance',fontsize=12)\n",
    "ax.set_title(\"Cost of Attendance vs Completion Rate\",fontsize=15);\n",
    "plt.show()\n",
    "plt.savefig('outputs/CostofAttendanceVSCompletionRate.png')"
   ]
  },
  {
   "cell_type": "code",
   "execution_count": null,
   "metadata": {},
   "outputs": [],
   "source": [
    "# Calculate the correlation coefficient and linear regression model for Cost of Attendance and Out-of-State Tuition\n",
    "one_df = csc_data_final['Cost of Attendance']\n",
    "two_df = csc_data_final['Completion Rate']\n",
    "\n",
    "(slope, intercept, rvalue, pvalue, stderr) = stats.linregress(one_df,two_df)\n",
    "y = regress_values = one_df * slope + intercept\n",
    "print(regress_values)\n",
    "\n",
    "# Create line equation \n",
    "line_eq = \"y = \" + str(round(slope,2)) + \"x + \" + str(round(intercept,2))\n",
    "print(line_eq)\n",
    "\n",
    "# Plot the linear model with scatter plot\n",
    "plt.figure(figsize=(8,6))\n",
    "plt.scatter(one_df, two_df)\n",
    "f1 = plt.plot(one_df, regress_values, 'r--', alpha=0.2)\n",
    "\n",
    "# Label plot and annotate the line equation\n",
    "plt.annotate(line_eq,(50000,0.2),fontsize=15,color=\"red\")\n",
    "plt.xlabel('Cost of Attendance', size=15)\n",
    "plt.ylabel('Out-of-State Tuition', size=15)\n",
    "plt.title('Cost of Attendance vs Out-of-State Tuition', size=15)\n",
    "plt.xticks(size=12)\n",
    "plt.yticks(size=12)\n",
    "print(f\"The correlation between Cost of Attendance and  Out-of-State Tuition is: {rvalue}\")\n",
    "plt.savefig('outputs/CostOfAttendanceVSInStateTuition.png')\n",
    "plt.show()\n"
   ]
  },
  {
   "cell_type": "markdown",
   "metadata": {},
   "source": [
    "The correlation between Cost of Attendance and Completion Rate is: 0.602\n",
    " y = 0.0x + 0.24\n",
    "The coefficients we obtained from this simple linear regression analysis using statsmodels package tell us that an increase of 10 percent in completion rate is associated with a increase in Cost of Attendance rate by around 10000 point of value. On the graph we can remarque 2 distinctive groups of dots. "
   ]
  },
  {
   "cell_type": "markdown",
   "metadata": {},
   "source": [
    "# Conclusion:"
   ]
  },
  {
   "cell_type": "markdown",
   "metadata": {},
   "source": [
    " Today’s Americans are more educated than ever before, but the sticker shock is causing some whiplash. This overall trend of spiraling student debt has significant implications on a person’s life trajectory. With many graduates unable to repay their loans on time, more of them are delaying major life milestones, such as starting a family or becoming a homeowner."
   ]
  },
  {
   "cell_type": "markdown",
   "metadata": {},
   "source": [
    "### Ana's Code - End"
   ]
  },
  {
   "cell_type": "markdown",
   "metadata": {},
   "source": [
    "----------------------------------------------"
   ]
  },
  {
   "cell_type": "markdown",
   "metadata": {},
   "source": [
    "### Vikash's Code - Start"
   ]
  },
  {
   "cell_type": "code",
   "execution_count": null,
   "metadata": {},
   "outputs": [],
   "source": [
    "!mkdir outputs\n",
    "!ls -ltr outputs/"
   ]
  },
  {
   "cell_type": "code",
   "execution_count": null,
   "metadata": {},
   "outputs": [],
   "source": [
    "profile = ProfileReport(csc_data_final, title='Pandas Profiling Report', html={'style':{'full_width':True}})"
   ]
  },
  {
   "cell_type": "code",
   "execution_count": null,
   "metadata": {
    "scrolled": true
   },
   "outputs": [],
   "source": [
    "profile.to_notebook_iframe()"
   ]
  },
  {
   "cell_type": "code",
   "execution_count": null,
   "metadata": {},
   "outputs": [],
   "source": [
    "profile.to_file(output_file=\"outputs/vk_report.html\")"
   ]
  },
  {
   "cell_type": "code",
   "execution_count": null,
   "metadata": {},
   "outputs": [],
   "source": [
    "loanDF = csc_data_final"
   ]
  },
  {
   "cell_type": "code",
   "execution_count": null,
   "metadata": {},
   "outputs": [],
   "source": [
    "# find list of columns which has more than 50% of data missing.\n",
    "def findMissingValueCols(df):\n",
    "    #df.select([count(when(isnan(c) | col(c).isNull(), c)).alias(c) for c in df.columns]).show()\n",
    "    missingValueColumns = []\n",
    "    for column in df.columns:\n",
    "        nullRows = df.where(col(column).isNull()).count()\n",
    "        print(column, \"--\", nullRows)\n",
    "        if nullRows > loanDFRows*0.5 : # i.e. if ALL values are NULL\n",
    "            missingValueColumns.append(column)\n",
    "    return missingValueColumns\n",
    "\n",
    "# columns names which has more than 50% data missing\n",
    "#missingValueColList = findMissingValueCols(loanDF)\n",
    "\n",
    "#print(missingValueColList)"
   ]
  },
  {
   "cell_type": "code",
   "execution_count": null,
   "metadata": {},
   "outputs": [],
   "source": [
    "loanCoA = loanDF[[\"Cost_of_Attendance\"]].astype('float')\n",
    "loanCoA.head()"
   ]
  },
  {
   "cell_type": "code",
   "execution_count": null,
   "metadata": {},
   "outputs": [],
   "source": [
    "loanCoA = loanDF[[\"Cost_of_Attendance\"]].astype('float')\n",
    "sns.distplot(loanCoA, fit=stats.gamma, axlabel=\"Cost_of_Attendance\", label=\"Cost_of_Attendance distribution\")"
   ]
  },
  {
   "cell_type": "code",
   "execution_count": null,
   "metadata": {},
   "outputs": [],
   "source": [
    "sns.boxplot(loanCoA)"
   ]
  },
  {
   "cell_type": "code",
   "execution_count": null,
   "metadata": {},
   "outputs": [],
   "source": [
    "loanCR = loanDF[[\"Completion_Rate\"]].astype('float')\n",
    "sns.distplot(loanCR, fit=stats.gamma, axlabel=\"Completion_Rate\", label=\"Completion_Rate distribution\")"
   ]
  },
  {
   "cell_type": "code",
   "execution_count": null,
   "metadata": {},
   "outputs": [],
   "source": [
    "sns.boxplot(loanCR)"
   ]
  },
  {
   "cell_type": "code",
   "execution_count": null,
   "metadata": {},
   "outputs": [],
   "source": [
    "fig, ax =plt.subplots(2,2, figsize=(18,12))\n",
    "plt.subplots_adjust(hspace = 0.4, top = 0.8)\n",
    "# Cost_of_Attendance distribution plots\n",
    "sns.distplot(loanCoA, fit=stats.gamma, axlabel=\"Cost_of_Attendance\", label=\"Cost_of_Attendance distribution\", ax=ax[0][0])\n",
    "sns.boxplot(x=loanCoA.Cost_of_Attendance, ax=ax[0][1])\n",
    "\n",
    "# Completion_Rate distribution plots\n",
    "sns.distplot(loanCR, fit=stats.gamma, axlabel=\"Completion_Rate\", label=\"Completion_Rate distribution\", ax=ax[1][0])\n",
    "sns.boxplot(x=loanCR.Completion_Rate, ax=ax[1][1])\n",
    "\n",
    "fig.show()\n",
    "plt.savefig(\"outputs/vk_Cost_of_Att_and_Completion_Rate.png\")\n"
   ]
  },
  {
   "cell_type": "code",
   "execution_count": null,
   "metadata": {},
   "outputs": [],
   "source": [
    "from scipy import stats"
   ]
  },
  {
   "cell_type": "code",
   "execution_count": null,
   "metadata": {},
   "outputs": [],
   "source": [
    "x_values = csc_data_final[\"Median_Debt_for_Female_Students\"]\n",
    "y_values = csc_data_final['Median_Debt_for_Male_Students']\n",
    "(slope, intercept, rvalue, pvalue, stderr) = stats.linregress(x_values, y_values)\n",
    "regress_values = x_values * slope + intercept\n",
    "line_eq = \"y = \" + str(round(slope,2)) + \"x + \" + str(round(intercept,2))\n",
    "plt.scatter(x_values,y_values)\n",
    "plt.plot(x_values,regress_values,\"r-\")\n",
    "plt.annotate(line_eq,(6,10),fontsize=15,color=\"red\")\n",
    "plt.xlabel('Median_Debt_for_Female_Students')\n",
    "plt.ylabel('Median_Debt_for_Male_Students)')\n",
    "print(f\"The r-squared is: {rvalue}\")\n",
    "plt.savefig(\"outputs/vk_Median_Debt_for_Female_and_Male.png\")\n",
    "plt.show()"
   ]
  },
  {
   "cell_type": "code",
   "execution_count": null,
   "metadata": {},
   "outputs": [],
   "source": [
    "x_values = csc_data_final[\"Completion_Rate\"]\n",
    "y_values = csc_data_final['Cost_of_Attendance']\n",
    "(slope, intercept, rvalue, pvalue, stderr) = stats.linregress(x_values, y_values)\n",
    "regress_values = x_values * slope + intercept\n",
    "line_eq = \"y = \" + str(round(slope,2)) + \"x + \" + str(round(intercept,2))\n",
    "plt.scatter(x_values,y_values)\n",
    "plt.plot(x_values,regress_values,\"r-\")\n",
    "plt.annotate(line_eq,(1,10),fontsize=15,color=\"red\")\n",
    "plt.xlabel('Completion_Rate')\n",
    "plt.ylabel('Cost_of_Attendance)')\n",
    "print(f\"The r-squared is: {rvalue}\")\n",
    "plt.savefig(\"outputs/vk_Completion_Rate_Cost_of_Attendance.png\")\n",
    "plt.show()\n"
   ]
  },
  {
   "cell_type": "code",
   "execution_count": null,
   "metadata": {},
   "outputs": [],
   "source": [
    "x_values = csc_data_final[\"In-State_Tuition\"]\n",
    "y_values = csc_data_final['Cost_of_Attendance']\n",
    "(slope, intercept, rvalue, pvalue, stderr) = stats.linregress(x_values, y_values)\n",
    "regress_values = x_values * slope + intercept\n",
    "line_eq = \"y = \" + str(round(slope,2)) + \"x + \" + str(round(intercept,2))\n",
    "plt.scatter(x_values,y_values)\n",
    "plt.plot(x_values,regress_values,\"r-\")\n",
    "plt.annotate(line_eq,(1,10),fontsize=15,color=\"red\")\n",
    "plt.xlabel('In-State_Tuition')\n",
    "plt.ylabel('Cost_of_Attendance')\n",
    "print(f\"The r-squared is: {rvalue}\")\n",
    "plt.savefig(\"outputs/vk_In-State_Tuition_Cost_of_Attendance.png\")\n",
    "plt.show()\n"
   ]
  },
  {
   "cell_type": "code",
   "execution_count": null,
   "metadata": {},
   "outputs": [],
   "source": [
    "x_values = csc_data_final[\"Median_Debt_for_Female_Students\"]\n",
    "y_values = csc_data_final['Median_Debt_with_income_between_30,001-75k']\n",
    "(slope, intercept, rvalue, pvalue, stderr) = stats.linregress(x_values, y_values)\n",
    "regress_values = x_values * slope + intercept\n",
    "line_eq = \"y = \" + str(round(slope,2)) + \"x + \" + str(round(intercept,2))\n",
    "plt.scatter(x_values,y_values)\n",
    "plt.plot(x_values,regress_values,\"r-\")\n",
    "plt.annotate(line_eq,(1,20),fontsize=15,color=\"red\")\n",
    "plt.xlabel('Median_Debt_for_Female_Students')\n",
    "plt.ylabel('Median_Debt_with_income_between_30,001-75k')\n",
    "print(f\"The r-squared is: {rvalue}\")\n",
    "plt.savefig(\"outputs/vk_Median_Debt_for_Female_Students_Median_Debt_with_income_between_30k-75k.png\")\n",
    "plt.show()\n"
   ]
  },
  {
   "cell_type": "code",
   "execution_count": null,
   "metadata": {},
   "outputs": [],
   "source": [
    "x_values = csc_data_final[\"Median_Debt_with_income_between_0-30k\"]\n",
    "y_values = csc_data_final['Median_Loan_Principal']\n",
    "(slope, intercept, rvalue, pvalue, stderr) = stats.linregress(x_values, y_values)\n",
    "regress_values = x_values * slope + intercept\n",
    "line_eq = \"y = \" + str(round(slope,2)) + \"x + \" + str(round(intercept,2))\n",
    "plt.scatter(x_values,y_values)\n",
    "plt.plot(x_values,regress_values,\"r-\")\n",
    "plt.annotate(line_eq,(1,20),fontsize=15,color=\"red\")\n",
    "plt.xlabel('Median_Debt_with_income_between_0-30k')\n",
    "plt.ylabel('Median_Loan_Principal')\n",
    "print(f\"The r-squared is: {rvalue}\")\n",
    "plt.savefig(\"outputs/vk_Median_Debt_with_income_between_0-30k_Median_Loan_Principal.png\")\n",
    "plt.show()\n"
   ]
  },
  {
   "cell_type": "code",
   "execution_count": null,
   "metadata": {},
   "outputs": [],
   "source": [
    "dd = csc_data_final[[\"State_Name\", \"Student_Size\"]]\n",
    "fig, ax =plt.subplots(3,1,figsize=(30,50))\n",
    "plt.subplots_adjust(hspace = 0.4, top = 1.0)\n",
    "\n",
    "s0 = sns.countplot(x=\"State_Name\", data=dd,ax=ax[0])\n",
    "s0.set_xticklabels(s0.get_xticklabels(),rotation=45)\n",
    "\n",
    "s1 = sns.boxplot(x=\"State_Name\", y=\"Student_Size\", data=dd,ax=ax[1])\n",
    "s1.set_xticklabels(s1.get_xticklabels(),rotation=45)\n",
    "\n",
    "s2 = sns.violinplot(x=\"State_Name\", y=\"Student_Size\", data=dd,ax=ax[2] , estimator=sum)\n",
    "s2.set_xticklabels(s2.get_xticklabels(),rotation=45)\n",
    "\n",
    "plt.savefig(\"outputs/vk_Student_Size3.png\")\n",
    "plt.show()"
   ]
  },
  {
   "cell_type": "code",
   "execution_count": null,
   "metadata": {},
   "outputs": [],
   "source": [
    "def univariate(df,col,vartype,hue =None):\n",
    "    \n",
    "    '''\n",
    "    Univariate function will plot the graphs based on the parameters.\n",
    "    df      : dataframe name\n",
    "    col     : Column name\n",
    "    vartype : variable type : continuos or categorical\n",
    "                Continuos(0)   : Distribution, Violin & Boxplot will be plotted.\n",
    "                Categorical(1) : Countplot will be plotted.\n",
    "    hue     : It's only applicable for categorical analysis.\n",
    "    \n",
    "    '''\n",
    "    sns.set(style=\"darkgrid\")\n",
    "    \n",
    "    if vartype == 0:\n",
    "        fig, ax=plt.subplots(nrows =1,ncols=3,figsize=(20,8))\n",
    "        ax[0].set_title(\"Distribution Plot\")\n",
    "        sns.distplot(df[col],ax=ax[0])\n",
    "        ax[1].set_title(\"Violin Plot\")\n",
    "        sns.violinplot(data =df, x=col,ax=ax[1], inner=\"quartile\")\n",
    "        ax[2].set_title(\"Box Plot\")\n",
    "        sns.boxplot(data =df, x=col,ax=ax[2],orient='v')\n",
    "    \n",
    "    if vartype == 1:\n",
    "        temp = pd.Series(data = hue)\n",
    "        fig, ax = plt.subplots()\n",
    "        width = len(df[col].unique()) + 6 + 4*len(temp.unique())\n",
    "        fig.set_size_inches(width , 7)\n",
    "        ax = sns.countplot(data = df, x= col, order=df[col].value_counts().index,hue = hue) \n",
    "        if len(temp.unique()) > 0:\n",
    "            for p in ax.patches:\n",
    "                ax.annotate('{:1.1f}%'.format((p.get_height()*100)/float(len(loan))), (p.get_x()+0.05, p.get_height()+20))  \n",
    "        else:\n",
    "            for p in ax.patches:\n",
    "                ax.annotate(p.get_height(), (p.get_x()+0.32, p.get_height()+20)) \n",
    "        del temp\n",
    "    else:\n",
    "        exit\n",
    "        \n",
    "    \n",
    "    #plt.show()"
   ]
  },
  {
   "cell_type": "code",
   "execution_count": null,
   "metadata": {},
   "outputs": [],
   "source": [
    "univariate(df=csc_data_final,col='Cost_of_Attendance',vartype=0)\n",
    "plt.savefig(\"outputs/vk_Cost_of_Attendance.png\")\n",
    "plt.show()"
   ]
  },
  {
   "cell_type": "code",
   "execution_count": null,
   "metadata": {},
   "outputs": [],
   "source": [
    "univariate(df=csc_data_final,col='Student_Size',vartype=0)\n",
    "plt.savefig(\"outputs/vk_Student_Size.png\")\n",
    "plt.show()"
   ]
  },
  {
   "cell_type": "code",
   "execution_count": null,
   "metadata": {},
   "outputs": [],
   "source": [
    "univariate(df=csc_data_final,col='Completion_Rate',vartype=0)\n",
    "plt.savefig(\"outputs/vk_Completion_Rate.png\")\n",
    "plt.show()"
   ]
  },
  {
   "cell_type": "code",
   "execution_count": null,
   "metadata": {},
   "outputs": [],
   "source": [
    "loan_data = csc_data_final[[\"Cost_of_Attendance\", \"In-State_Tuition\", \"Completion_Rate\", \"Median_Debt_for_Female_Students\" , \"Median_Debt_with_income_between_30,001-75k\", \"Median_Loan_Principal\", \"Median_Debt_for_Male_Students\", \"Median_Debt_with_income_between_0-30k\"]]\n",
    "loan_data.head()"
   ]
  },
  {
   "cell_type": "code",
   "execution_count": null,
   "metadata": {},
   "outputs": [],
   "source": [
    "loan_correlation = loan_data.corr()\n",
    "loan_correlation.head()"
   ]
  },
  {
   "cell_type": "code",
   "execution_count": null,
   "metadata": {},
   "outputs": [],
   "source": [
    "sns_plot = sns.clustermap(loan_correlation, cmap=\"Blues\", \n",
    "            xticklabels=loan_correlation.columns.values,\n",
    "            yticklabels=loan_correlation.columns.values,annot= True, robust=True)\n",
    "plt.show()\n",
    "sns_plot.savefig(\"outputs/vk_correlation.png\")"
   ]
  },
  {
   "cell_type": "code",
   "execution_count": null,
   "metadata": {},
   "outputs": [],
   "source": []
  },
  {
   "cell_type": "code",
   "execution_count": null,
   "metadata": {},
   "outputs": [],
   "source": []
  },
  {
   "cell_type": "markdown",
   "metadata": {},
   "source": [
    "### Vikash's Code - End"
   ]
  }
 ],
 "metadata": {
  "kernelspec": {
   "display_name": "Python 3",
   "language": "python",
   "name": "python3"
  },
  "language_info": {
   "codemirror_mode": {
    "name": "ipython",
    "version": 3
   },
   "file_extension": ".py",
   "mimetype": "text/x-python",
   "name": "python",
   "nbconvert_exporter": "python",
   "pygments_lexer": "ipython3",
   "version": "3.6.9"
  }
 },
 "nbformat": 4,
 "nbformat_minor": 2
}
