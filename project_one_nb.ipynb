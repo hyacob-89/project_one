{
 "cells": [
  {
   "cell_type": "code",
   "execution_count": null,
   "metadata": {},
   "outputs": [],
   "source": [
    "#Dependancies\n",
    "%matplotlib inline\n",
    "import matplotlib\n",
    "import requests\n",
    "import pandas as pd\n",
    "import numpy as np\n",
    "import json\n",
    "from pandas_profiling import ProfileReport\n",
    "import seaborn as sns\n",
    "sns.set(color_codes=True)\n",
    "from scipy import stats\n",
    "import os"
    "import seaborn as sb\n",
    "import matplotlib.pyplot as plt\n",
    "from config import college_scorecard_api_key"
    "import scipy.stats as stats\n",
   ]
  },
  {
   "cell_type": "code",
   "execution_count": null,
   "metadata": {},
   "outputs": [],
   "source": [
    "# Call in 'College Scorecard (i.e. csc)' API ; only schools that offer a bachelor's or graduate degree\n",
    "csc_url = \"https://api.data.gov/ed/collegescorecard/v1/schools.json?school.degrees_awarded.highest=3,4&\"\n",
    "\n",
    "csc_2017_query_url = f'{csc_url}api_key={college_scorecard_api_key}&_fields=id,school.name,school.city,school.state_fips,school.zip,location.lat,location.lon,2017'\n",
    "csc_2017_response = requests.get(csc_2017_query_url).json()\n",
    "\n",
    "# Identify JSON page number\n",
    "csc_json_data = []\n",
    "\n",
    "# Loop through each JSON page and extract JSON data into a list\n",
    "for page in range(0, 29):\n",
    "    csc_2017_response = requests.get(csc_2017_query_url, params={'page': page, 'per_page': 100}).json()\n",
    "    csc_json_data.append(csc_2017_response['results'])\n",
    "\n",
    "    csc_data_list = []\n",
    "    for csc_data in csc_json_data:\n",
    "        for csc_objects in csc_data:\n",
    "            csc_data_list.append(csc_objects)\n",
    "\n",
    "# Convert JSON list into a Dataframe\n",
    "csc_data_frame = pd.DataFrame(csc_data_list)\n"
   ]
  },
  {
   "cell_type": "code",
   "execution_count": null,
   "metadata": {},
   "outputs": [],
   "source": [
    "# Pull columns needed\n",
    "csc_data_table_pull = csc_data_frame[['school.name',\n",
    "                                     'school.city',\n",
    "                                     'school.ownership',\n",
    "                                     'school.state_fips',\n",
    "                                     'location.lat',\n",
    "                                     'location.lon',\n",
    "                                     '2017.student.size',\n",
    "                                     '2017.cost.attendance.academic_year',\n",
    "                                     '2017.cost.tuition.in_state',\n",
    "                                     '2017.cost.tuition.out_of_state',\n",
    "                                     '2017.student.retention_rate.four_year.full_time',\n",
    "                                     '2017.aid.federal_loan_rate',\n",
    "                                     '2017.aid.loan_principal',\n",
    "                                     '2017.aid.median_debt.completers.overall',\n",
    "                                     '2017.aid.median_debt.income.0_30000',\n",
    "                                     '2017.aid.median_debt.income.30001_75000',\n",
    "                                     '2017.aid.median_debt.income.greater_than_75000',\n",
    "                                     '2017.aid.median_debt.female_students',\n",
    "                                     '2017.aid.median_debt.male_students',\n",
    "                                     '2017.completion.rate_suppressed.overall',\n",
    "                                     '2017.aid.median_debt.dependent_students',\n",
    "                                     '2017.aid.median_debt.independent_students']].dropna().reset_index(drop=True)\n",
    "\n",
    "# Clean column headers\n",
    "csc_data_table_header_clean = csc_data_table_pull.rename(columns = {'school.name': 'School Name',\n",
    "                                                                  'school.city': 'City',\n",
    "                                                                  'school.state_fips': 'State Code',\n",
    "                                                                  'school.ownership': 'Institution',\n",
    "                                                                  'location.lat': 'Latitude',\n",
    "                                                                  'location.lon': 'Longitude',\n",
    "                                                                  '2017.student.size': 'Student Size',\n",
    "                                                                  '2017.cost.attendance.academic_year': 'Cost of Attendance',\n",
    "                                                                  '2017.cost.tuition.in_state': 'In-State Tuition',\n",
    "                                                                  '2017.cost.tuition.out_of_state': 'Out-of-State Tuition',\n",
    "                                                                  '2017.student.retention_rate.four_year.full_time': 'Retention Rate: Fulltime Student',\n",
    "                                                                  '2017.aid.federal_loan_rate': '% of Undergrad Students Recieving Fed Student Loan',\n",
    "                                                                  '2017.aid.loan_principal': 'Median Loan Principal',\n",
    "                                                                  '2017.aid.median_debt.completers.overall': 'Median Debt',\n",
    "                                                                  '2017.aid.median_debt.income.0_30000': 'Median Debt with income between 0-30k',\n",
    "                                                                  '2017.aid.median_debt.income.30001_75000': 'Median Debt with income between 30,001-75k',\n",
    "                                                                  '2017.aid.median_debt.income.greater_than_75000': 'Median Debt with income greater than 75k',\n",
    "                                                                  '2017.aid.median_debt.female_students': 'Median Debt for Female Students',\n",
    "                                                                  '2017.aid.median_debt.male_students': 'Median Debt for Male Students',\n",
    "                                                                  '2017.completion.rate_suppressed.overall': 'Completion Rate',\n",
    "                                                                   '2017.aid.median_debt.dependent_students': \"Median Debt for Dependent Students\",\n",
    "                                                                   '2017.aid.median_debt.independent_students': 'Median Debt for Independent Students'})\n"
   ]
  },
  {
   "cell_type": "code",
   "execution_count": null,
   "metadata": {},
   "outputs": [],
   "source": [
    "# Pull in and merge State names.\n",
    "\n",
    "fips_path = \"Resources/State FIPS Codes.csv\"\n",
    "fips_states_df = pd.read_csv(fips_path)\n",
    "\n",
    "csc_data_final = pd.merge(csc_data_table_header_clean, fips_states_df, on='State Code')"
   ]
  },
  {
   "cell_type": "markdown",
   "metadata": {},
   "source": [
    "### Henock's Code - Start"
   ]
  },
  {
   "cell_type": "code",
   "execution_count": null,
   "metadata": {},
   "outputs": [],
   "source": [
    "csc_data_50_states = csc_data_final.loc[csc_data_final[\"State Name\"] != 'District of Columbia', :]\n",
    "#csc_data_50_states"
   ]
  },
  {
   "cell_type": "code",
   "execution_count": null,
   "metadata": {
    "scrolled": false
   },
   "outputs": [],
   "source": [
    "# Group by State - Averages\n",
    "csc_grouped_data = csc_data_50_states.groupby(['State Name']).mean()\n",
    "\n",
    "# Avg. Cost of Attendance by State\n",
    "csc_sorted_data_ca = csc_grouped_data.sort_values('Cost of Attendance', ascending = False)\n",
    "avg_ca_by_state = csc_sorted_data_ca['Cost of Attendance'].reset_index()\n",
    "top_ten_avg_ca_by_state = avg_ca_by_state.head(10)\n",
    "\n",
    "fig, ax = plt.subplots(figsize = (7, 5))\n",
    "\n",
    "state_names_x = top_ten_avg_ca_by_state['State Name'].tolist()\n",
    "ca_debt_y = top_ten_avg_ca_by_state['Cost of Attendance'].tolist()\n",
    "y_pos = np.arange(len(state_names_x))\n",
    "\n",
    "ax.barh(y_pos, ca_debt_y, align='center')\n",
    "ax.set_yticks(y_pos)\n",
    "ax.set_yticklabels(state_names_x)\n",
    "ax.invert_yaxis() \n",
    "ax.set_xlabel('Cost of Attendance')\n",
    "ax.set_title('Avg. Cost of Attendance by State')\n",
    "plt.xlim(20000, max(ca_debt_y)+1000)\n",
    "plt.ylim(10, -1)\n",
    "plt.savefig(\"outputs/cost_by_state.png\")\n",
    "\n",
    "# Avg. Median Debt by State\n",
    "csc_sorted_data_md = csc_grouped_data.sort_values('Median Debt', ascending = False)\n",
    "avg_md_state = csc_sorted_data_md['Median Debt'].reset_index()\n",
    "top_ten_avg_md_by_state = avg_md_state.head(10)\n",
    "\n",
    "fig, ax = plt.subplots(figsize = (7, 5))\n",
    "\n",
    "state_names_x = top_ten_avg_md_by_state['State Name'].tolist()\n",
    "md_debt_y = top_ten_avg_md_by_state['Median Debt'].tolist()\n",
    "y_pos = np.arange(len(state_names_x))\n",
    "\n",
    "ax.barh(y_pos, md_debt_y, align='center')\n",
    "ax.set_yticks(y_pos)\n",
    "ax.set_yticklabels(state_names_x)\n",
    "ax.invert_yaxis() \n",
    "ax.set_xlabel('Median Debt')\n",
    "ax.set_title('Avg. Median Debt by State')\n",
    "plt.xlim(20000, max(md_debt_y)+1000)\n",
    "plt.ylim(10, -1)\n",
    "plt.savefig(\"outputs/debt_by_state.png\")"
   ]
  },
  {
   "cell_type": "code",
   "execution_count": null,
   "metadata": {},
   "outputs": [],
   "source": [
    "# Poulation data for t-Test\n",
    "\n",
    "csc_ca_population = csc_data_final['Cost of Attendance']\n",
    "csc_md_population = csc_data_final['Median Debt']\n",
    "\n",
    "# Scatter Plot of Data\n",
    "plt.subplot(2, 1, 1)\n",
    "plt.scatter(csc_ca_population, range(len(csc_ca_population)), label=\"Cost of Attendance\")\n",
    "plt.scatter(csc_md_population, range(len(csc_md_population)), label=\"Median Debt\")\n",
    "plt.legend()\n",
    "\n",
    "# Histogram Plot of Data\n",
    "plt.subplot(2, 1, 2)\n",
    "plt.hist(csc_ca_population, 15, density=False, alpha=0.7, label=\"Cost of Attendance\")\n",
    "plt.hist(csc_md_population, 15, density=False, alpha=0.7, label=\"Median Debt\")\n",
    "plt.axvline(csc_ca_population.mean(), color='k', linestyle='dashed', linewidth=1)\n",
    "plt.axvline(csc_md_population.mean(), color='k', linestyle='dashed', linewidth=1)\n",
    "plt.legend() \n",
    "plt.savefig(\"outputs/cost_to_debt_t_test.png\")"
   ]
  },
  {
   "cell_type": "code",
   "execution_count": null,
   "metadata": {},
   "outputs": [],
   "source": [
    "stats.ttest_ind(csc_ca_population, csc_md_population, equal_var=False)"
   ]
  },
  {
   "cell_type": "code",
   "execution_count": null,
   "metadata": {},
   "outputs": [],
   "source": [
    "csc_al_and_ri_analysis = csc_data_50_states.groupby(['State Name']).mean()\n",
    "csc_al_and_ri_summary = csc_al_and_ri_analysis.loc[['Alabama', 'Rhode Island']].reset_index()\n",
    "\n",
    "\n",
    "ca_and_md_data = csc_al_and_ri_summary[['State Name', 'Cost of Attendance', 'Median Debt']]\n",
    "state_al_and_ri = ca_and_md_data['State Name'].tolist()\n",
    "ca_al_and_ri = ca_and_md_data['Cost of Attendance'].tolist()\n",
    "md_al_and_ri = ca_and_md_data['Median Debt'].tolist()\n",
    "\n",
    "x = np.arange(len(state_al_and_ri))\n",
    "width = 0.35\n",
    "\n",
    "fig, ax = plt.subplots()\n",
    "rects1 = ax.bar(x - width/2, ca_al_and_ri, width, label='Cost of Attendance')\n",
    "rects2 = ax.bar(x + width/2, md_al_and_ri, width, label='Median Debt')\n",
    "\n",
    "ax.set_ylabel('Amounts')\n",
    "ax.set_title('Alabama and Rhode Island: Cost to Debt Comparison')\n",
    "ax.set_xticks(x)\n",
    "ax.set_xticklabels(state_al_and_ri)\n",
    "ax.legend()\n",
    "plt.savefig(\"outputs/al_ri_cost_to_debt_compare.png\")"
   ]
  },
  {
   "cell_type": "markdown",
   "metadata": {},
   "source": [
    "### Comparing Top 10 States by Avg. Median Debt and Avg. Cost of Attendance\n",
    "\n",
    "**discuss API steps\n",
    "\n",
    "After going through the data exploration and clean-up process i wanted to begin comparing the data sets at the state level. My initial approach was to run a correlation test for median debt and cost of attendance, however it showed that very little correlation existed. So i deciede to take a different approach to the data comparison.\n",
    "\n",
    "I placed both data sets in a horizontal bar chart and sorted from highest to lowest, and I observed that the state with the highest median debt was also not the highest in avg. cost of attendence. In this case the two anomolies were Alabama (i.e. highest median debt) and Rhode Island (highest cost of attendance). \n",
    "\n",
    "Before i went any further i ran a t-test to see how well my data sets were distributed. The avg. median debt data had a normal distribution, while the avg. cost of attendance data had a bi-modal distribution. This inciated that a good portion of the data had schools where a high cost of attendance and low median debt existed. In other words, as school costs increased, median debt stayed the same.\n",
    "\n",
    "### **This could mean that:**\n",
    "* Students that attended more expensive schools may have additional forms funding to help cover the costs of attendance.\n",
    "* Students that were closer to the poverty line, had a cost to debt ratio closer to 1. Meaning all of the debt is utilizaed towards the costs of attendence. Conversely, higher costs schools will show proportionaly low median debt.\n",
    "\n"
   ]
  },
  {
   "cell_type": "markdown",
   "metadata": {},
   "source": [
    "### Henock's Code - End"
   ]
  },
  {
   "cell_type": "markdown",
   "metadata": {},
   "source": [
    "----------------------------------------------"
   ]
  },
  {
   "cell_type": "markdown",
   "metadata": {},
   "source": [
    "### JJ's Code - Start"
   ]
  },
  {
   "cell_type": "markdown",
   "metadata": {},
   "source": [
    "# Calculate the average median debt of each family income category for each institutional type?"
   ]
  },
  {
   "cell_type": "code",
   "execution_count": null,
   "metadata": {},
   "outputs": [],
   "source": [
    "# rename the institution values and insert into the dataframe\n",
    "csc_data_final.Institution.replace(to_replace = {1: 'Public', 2: 'Private Nonprofit', 3: 'Private For-Profit'}, inplace = True)\n",
    "\n",
    "csc_data_final['Institution'] = pd.Categorical(csc_data_final.Institution, categories = ['Public', 'Private Nonprofit', \n",
    "                                                                                     'Private For-Profit'],\n",
    "                                    ordered = False)"
   ]
  },
  {
   "cell_type": "code",
   "execution_count": null,
   "metadata": {},
   "outputs": [],
   "source": [
    "csc_data_final['Institution'].value_counts()\n"
   ]
  },
  {
   "cell_type": "code",
   "execution_count": null,
   "metadata": {},
   "outputs": [],
   "source": [
    "  \n",
    "# 0 -30k - The number of students in the median debt low-income (less than or equal to $30,000 in nominal family income) students cohort\n",
    "# 30 -75K - The number of students in the median debt middle-income (between $30,000 and $75,000 in nominal family income) students cohort\n",
    "# 75K or greater - The number of students in the median debt high-income (above $75,000 in nominal family income) students cohort\n",
    "\n",
    "avg_median_debt_pd = csc_data_final[[\"Institution\", \"Median Debt with income between 0-30k\", \n",
    "                                    \"Median Debt with income between 30,001-75k\",\n",
    "                                   \"Median Debt with income greater than 75k\" ]]\n"
   ]
  },
  {
   "cell_type": "code",
   "execution_count": null,
   "metadata": {},
   "outputs": [],
   "source": [
    "# group the institution type\n",
    "\n",
    "group_avg_median_debt_pd =round( avg_median_debt_pd.groupby(\"Institution\").mean(), 2)\n",
    "group_avg_median_debt_pd"
   ]
  },
  {
   "cell_type": "code",
   "execution_count": null,
   "metadata": {},
   "outputs": [],
   "source": [
    "# Plot the graph\n",
    "group_avg_median_debt_pd.plot(kind = 'bar',  rot=0,\n",
    "             figsize = (20,10))\n",
    "           \n",
    "\n",
    "plt.title('Average Median Debts for Each family Income Category VS Institution Type')\n",
    "#save the figure\n",
    "plt.savefig(\"Resources/DebtFamilyIncVSInst.png\")"
   ]
  },
  {
   "cell_type": "markdown",
   "metadata": {},
   "source": [
    "From the result, we found that students from private schools have the highest median debt out of the three school types. Within each school type, students with family income ranging from \\$30,000-\\$70,001 (shown in the orange) have the highest median debt out of the three income groups."
   ]
  },
  {
   "cell_type": "code",
   "execution_count": null,
   "metadata": {},
   "outputs": [],
   "source": [
    "male_fem_median_debt_pd = csc_data_final[[\"Institution\", \"Median Debt for Female Students\", \"Median Debt for Male Students\"]]\n"
   ]
  },
  {
   "cell_type": "code",
   "execution_count": null,
   "metadata": {},
   "outputs": [],
   "source": [
    "gp_avg_male_fem_median_debt_pd =round( male_fem_median_debt_pd.groupby(\"Institution\").mean(), 2)\n",
    "gp_avg_male_fem_median_debt_pd"
   ]
  },
  {
   "cell_type": "markdown",
   "metadata": {},
   "source": [
    "# Calculate the average median debt of Male and Female Students Vs each institutional type?"
   ]
  },
  {
   "cell_type": "code",
   "execution_count": null,
   "metadata": {},
   "outputs": [],
   "source": [
    "# Plot the graphs\n",
    "\n",
    "gp_avg_male_fem_median_debt_pd.plot(kind = 'bar',  rot=0, color='rg', \n",
    "             figsize = (20,10))\n",
    "           \n",
    "\n",
    "\n",
    "\n",
    "plt.title('Average Median Debts for male and Female VS Institution Type')\n",
    "#save the figure\n",
    "plt.savefig(\"Resources/DebtMaleFemaleVSInst.png\")"
   ]
  },
  {
   "cell_type": "markdown",
   "metadata": {},
   "source": [
    "we can see that the average median debts for female is higher in both public and private institution where in private fro profit it is slightly lower"
   ]
  },
  {
   "cell_type": "code",
   "execution_count": null,
   "metadata": {},
   "outputs": [],
   "source": [
    "# most common type of governance structure in the US across institutes?\n",
    "# plot\n",
    "plt.figure(figsize = (7, 5))\n",
    "sb.countplot(data = csc_data_final, x = 'Institution')\n",
    "\n",
    "# annotate\n",
    "n_points = csc_data_final.shape[0]\n",
    "cat_counts = csc_data_final.Institution.value_counts()\n",
    "locs, labels = plt.xticks()                # get current tick locations and labels\n",
    "\n",
    "    \n",
    "# label\n",
    "plt.title('Distribution of Governance Structure across Institutes', fontsize = 14)\n",
    "plt.xticks(fontsize = 12)\n",
    "plt.xlabel(\"Institution\", fontsize = 13)\n",
    "plt.ylabel('Count', fontsize = 14);\n",
    "\n",
    "plt.savefig(\"Resources/MostCommonStructure.png\")"
   ]
  },
  {
   "cell_type": "code",
   "execution_count": null,
   "metadata": {},
   "outputs": [],
   "source": []
  },
  {
   "cell_type": "markdown",
   "metadata": {},
   "source": [
    "### JJ's Code - End"
   ]
  },
  {
   "cell_type": "markdown",
   "metadata": {},
   "source": [
    "----------------------------------------------"
   ]
  },
  {
   "cell_type": "markdown",
   "metadata": {},
   "source": [
    "### Ana's Code - Start"
   ]
  },
  {
   "cell_type": "code",
   "execution_count": null,
   "metadata": {},
   "outputs": [],
   "source": []
  },
  {
   "cell_type": "code",
   "execution_count": null,
   "metadata": {},
   "outputs": [],
   "source": []
  },
  {
   "cell_type": "code",
   "execution_count": null,
   "metadata": {},
   "outputs": [],
   "source": []
  },
  {
   "cell_type": "markdown",
   "metadata": {},
   "source": [
    "### Ana's Code - End"
   ]
  },
  {
   "cell_type": "markdown",
   "metadata": {},
   "source": [
    "----------------------------------------------"
   ]
  },
  {
   "cell_type": "markdown",
   "metadata": {},
   "source": [
    "### Vikash's Code - Start"
   ]
  },
  {
   "cell_type": "code",
   "execution_count": null,
   "metadata": {},
   "outputs": [],
   "source": [
    "!mkdir outputs\n",
    "!ls -ltr outputs/"
   ]
  },
  {
   "cell_type": "code",
   "execution_count": null,
   "metadata": {},
   "outputs": [],
   "source": [
    "profile = ProfileReport(csc_data_final, title='Pandas Profiling Report', html={'style':{'full_width':True}})"
   ]
  },
  {
   "cell_type": "code",
   "execution_count": null,
   "metadata": {
    "scrolled": true
   },
   "outputs": [],
   "source": [
    "profile.to_notebook_iframe()"
   ]
  },
  {
   "cell_type": "code",
   "execution_count": null,
   "metadata": {},
   "outputs": [],
   "source": [
    "profile.to_file(output_file=\"outputs/vk_report.html\")"
   ]
  },
  {
   "cell_type": "code",
   "execution_count": null,
   "metadata": {},
   "outputs": [],
   "source": [
    "loanDF = csc_data_final"
   ]
  },
  {
   "cell_type": "code",
   "execution_count": null,
   "metadata": {},
   "outputs": [],
   "source": [
    "# find list of columns which has more than 50% of data missing.\n",
    "def findMissingValueCols(df):\n",
    "    #df.select([count(when(isnan(c) | col(c).isNull(), c)).alias(c) for c in df.columns]).show()\n",
    "    missingValueColumns = []\n",
    "    for column in df.columns:\n",
    "        nullRows = df.where(col(column).isNull()).count()\n",
    "        print(column, \"--\", nullRows)\n",
    "        if nullRows > loanDFRows*0.5 : # i.e. if ALL values are NULL\n",
    "            missingValueColumns.append(column)\n",
    "    return missingValueColumns\n",
    "\n",
    "# columns names which has more than 50% data missing\n",
    "#missingValueColList = findMissingValueCols(loanDF)\n",
    "\n",
    "#print(missingValueColList)"
   ]
  },
  {
   "cell_type": "code",
   "execution_count": null,
   "metadata": {},
   "outputs": [],
   "source": [
    "loanCoA = loanDF[[\"Cost_of_Attendance\"]].astype('float')\n",
    "loanCoA.head()"
   ]
  },
  {
   "cell_type": "code",
   "execution_count": null,
   "metadata": {},
   "outputs": [],
   "source": [
    "loanCoA = loanDF[[\"Cost_of_Attendance\"]].astype('float')\n",
    "sns.distplot(loanCoA, fit=stats.gamma, axlabel=\"Cost_of_Attendance\", label=\"Cost_of_Attendance distribution\")"
   ]
  },
  {
   "cell_type": "code",
   "execution_count": null,
   "metadata": {},
   "outputs": [],
   "source": [
    "sns.boxplot(loanCoA)"
   ]
  },
  {
   "cell_type": "code",
   "execution_count": null,
   "metadata": {},
   "outputs": [],
   "source": [
    "loanCR = loanDF[[\"Completion_Rate\"]].astype('float')\n",
    "sns.distplot(loanCR, fit=stats.gamma, axlabel=\"Completion_Rate\", label=\"Completion_Rate distribution\")"
   ]
  },
  {
   "cell_type": "code",
   "execution_count": null,
   "metadata": {},
   "outputs": [],
   "source": [
    "sns.boxplot(loanCR)"
   ]
  },
  {
   "cell_type": "code",
   "execution_count": null,
   "metadata": {},
   "outputs": [],
   "source": [
    "fig, ax =plt.subplots(2,2, figsize=(18,12))\n",
    "plt.subplots_adjust(hspace = 0.4, top = 0.8)\n",
    "# Cost_of_Attendance distribution plots\n",
    "sns.distplot(loanCoA, fit=stats.gamma, axlabel=\"Cost_of_Attendance\", label=\"Cost_of_Attendance distribution\", ax=ax[0][0])\n",
    "sns.boxplot(x=loanCoA.Cost_of_Attendance, ax=ax[0][1])\n",
    "\n",
    "# Completion_Rate distribution plots\n",
    "sns.distplot(loanCR, fit=stats.gamma, axlabel=\"Completion_Rate\", label=\"Completion_Rate distribution\", ax=ax[1][0])\n",
    "sns.boxplot(x=loanCR.Completion_Rate, ax=ax[1][1])\n",
    "\n",
    "fig.show()\n",
    "plt.savefig(\"outputs/vk_Cost_of_Att_and_Completion_Rate.png\")\n"
   ]
  },
  {
   "cell_type": "code",
   "execution_count": null,
   "metadata": {},
   "outputs": [],
   "source": [
    "from scipy import stats"
   ]
  },
  {
   "cell_type": "code",
   "execution_count": null,
   "metadata": {},
   "outputs": [],
   "source": [
    "x_values = csc_data_final[\"Median_Debt_for_Female_Students\"]\n",
    "y_values = csc_data_final['Median_Debt_for_Male_Students']\n",
    "(slope, intercept, rvalue, pvalue, stderr) = stats.linregress(x_values, y_values)\n",
    "regress_values = x_values * slope + intercept\n",
    "line_eq = \"y = \" + str(round(slope,2)) + \"x + \" + str(round(intercept,2))\n",
    "plt.scatter(x_values,y_values)\n",
    "plt.plot(x_values,regress_values,\"r-\")\n",
    "plt.annotate(line_eq,(6,10),fontsize=15,color=\"red\")\n",
    "plt.xlabel('Median_Debt_for_Female_Students')\n",
    "plt.ylabel('Median_Debt_for_Male_Students)')\n",
    "print(f\"The r-squared is: {rvalue}\")\n",
    "plt.savefig(\"outputs/vk_Median_Debt_for_Female_and_Male.png\")\n",
    "plt.show()"
   ]
  },
  {
   "cell_type": "code",
   "execution_count": null,
   "metadata": {},
   "outputs": [],
   "source": [
    "x_values = csc_data_final[\"Completion_Rate\"]\n",
    "y_values = csc_data_final['Cost_of_Attendance']\n",
    "(slope, intercept, rvalue, pvalue, stderr) = stats.linregress(x_values, y_values)\n",
    "regress_values = x_values * slope + intercept\n",
    "line_eq = \"y = \" + str(round(slope,2)) + \"x + \" + str(round(intercept,2))\n",
    "plt.scatter(x_values,y_values)\n",
    "plt.plot(x_values,regress_values,\"r-\")\n",
    "plt.annotate(line_eq,(1,10),fontsize=15,color=\"red\")\n",
    "plt.xlabel('Completion_Rate')\n",
    "plt.ylabel('Cost_of_Attendance)')\n",
    "print(f\"The r-squared is: {rvalue}\")\n",
    "plt.savefig(\"outputs/vk_Completion_Rate_Cost_of_Attendance.png\")\n",
    "plt.show()\n"
   ]
  },
  {
   "cell_type": "code",
   "execution_count": null,
   "metadata": {},
   "outputs": [],
   "source": [
    "x_values = csc_data_final[\"In-State_Tuition\"]\n",
    "y_values = csc_data_final['Cost_of_Attendance']\n",
    "(slope, intercept, rvalue, pvalue, stderr) = stats.linregress(x_values, y_values)\n",
    "regress_values = x_values * slope + intercept\n",
    "line_eq = \"y = \" + str(round(slope,2)) + \"x + \" + str(round(intercept,2))\n",
    "plt.scatter(x_values,y_values)\n",
    "plt.plot(x_values,regress_values,\"r-\")\n",
    "plt.annotate(line_eq,(1,10),fontsize=15,color=\"red\")\n",
    "plt.xlabel('In-State_Tuition')\n",
    "plt.ylabel('Cost_of_Attendance')\n",
    "print(f\"The r-squared is: {rvalue}\")\n",
    "plt.savefig(\"outputs/vk_In-State_Tuition_Cost_of_Attendance.png\")\n",
    "plt.show()\n"
   ]
  },
  {
   "cell_type": "code",
   "execution_count": null,
   "metadata": {},
   "outputs": [],
   "source": [
    "x_values = csc_data_final[\"Median_Debt_for_Female_Students\"]\n",
    "y_values = csc_data_final['Median_Debt_with_income_between_30,001-75k']\n",
    "(slope, intercept, rvalue, pvalue, stderr) = stats.linregress(x_values, y_values)\n",
    "regress_values = x_values * slope + intercept\n",
    "line_eq = \"y = \" + str(round(slope,2)) + \"x + \" + str(round(intercept,2))\n",
    "plt.scatter(x_values,y_values)\n",
    "plt.plot(x_values,regress_values,\"r-\")\n",
    "plt.annotate(line_eq,(1,20),fontsize=15,color=\"red\")\n",
    "plt.xlabel('Median_Debt_for_Female_Students')\n",
    "plt.ylabel('Median_Debt_with_income_between_30,001-75k')\n",
    "print(f\"The r-squared is: {rvalue}\")\n",
    "plt.savefig(\"outputs/vk_Median_Debt_for_Female_Students_Median_Debt_with_income_between_30k-75k.png\")\n",
    "plt.show()\n"
   ]
  },
  {
   "cell_type": "code",
   "execution_count": null,
   "metadata": {},
   "outputs": [],
   "source": [
    "x_values = csc_data_final[\"Median_Debt_with_income_between_0-30k\"]\n",
    "y_values = csc_data_final['Median_Loan_Principal']\n",
    "(slope, intercept, rvalue, pvalue, stderr) = stats.linregress(x_values, y_values)\n",
    "regress_values = x_values * slope + intercept\n",
    "line_eq = \"y = \" + str(round(slope,2)) + \"x + \" + str(round(intercept,2))\n",
    "plt.scatter(x_values,y_values)\n",
    "plt.plot(x_values,regress_values,\"r-\")\n",
    "plt.annotate(line_eq,(1,20),fontsize=15,color=\"red\")\n",
    "plt.xlabel('Median_Debt_with_income_between_0-30k')\n",
    "plt.ylabel('Median_Loan_Principal')\n",
    "print(f\"The r-squared is: {rvalue}\")\n",
    "plt.savefig(\"outputs/vk_Median_Debt_with_income_between_0-30k_Median_Loan_Principal.png\")\n",
    "plt.show()\n"
   ]
  },
  {
   "cell_type": "code",
   "execution_count": null,
   "metadata": {},
   "outputs": [],
   "source": [
    "dd = csc_data_final[[\"State_Name\", \"Student_Size\"]]\n",
    "fig, ax =plt.subplots(3,1,figsize=(30,50))\n",
    "plt.subplots_adjust(hspace = 0.4, top = 1.0)\n",
    "\n",
    "s0 = sns.countplot(x=\"State_Name\", data=dd,ax=ax[0])\n",
    "s0.set_xticklabels(s0.get_xticklabels(),rotation=45)\n",
    "\n",
    "s1 = sns.boxplot(x=\"State_Name\", y=\"Student_Size\", data=dd,ax=ax[1])\n",
    "s1.set_xticklabels(s1.get_xticklabels(),rotation=45)\n",
    "\n",
    "s2 = sns.violinplot(x=\"State_Name\", y=\"Student_Size\", data=dd,ax=ax[2] , estimator=sum)\n",
    "s2.set_xticklabels(s2.get_xticklabels(),rotation=45)\n",
    "\n",
    "plt.savefig(\"outputs/vk_Student_Size3.png\")\n",
    "plt.show()"
   ]
  },
  {
   "cell_type": "code",
   "execution_count": null,
   "metadata": {},
   "outputs": [],
   "source": [
    "def univariate(df,col,vartype,hue =None):\n",
    "    \n",
    "    '''\n",
    "    Univariate function will plot the graphs based on the parameters.\n",
    "    df      : dataframe name\n",
    "    col     : Column name\n",
    "    vartype : variable type : continuos or categorical\n",
    "                Continuos(0)   : Distribution, Violin & Boxplot will be plotted.\n",
    "                Categorical(1) : Countplot will be plotted.\n",
    "    hue     : It's only applicable for categorical analysis.\n",
    "    \n",
    "    '''\n",
    "    sns.set(style=\"darkgrid\")\n",
    "    \n",
    "    if vartype == 0:\n",
    "        fig, ax=plt.subplots(nrows =1,ncols=3,figsize=(20,8))\n",
    "        ax[0].set_title(\"Distribution Plot\")\n",
    "        sns.distplot(df[col],ax=ax[0])\n",
    "        ax[1].set_title(\"Violin Plot\")\n",
    "        sns.violinplot(data =df, x=col,ax=ax[1], inner=\"quartile\")\n",
    "        ax[2].set_title(\"Box Plot\")\n",
    "        sns.boxplot(data =df, x=col,ax=ax[2],orient='v')\n",
    "    \n",
    "    if vartype == 1:\n",
    "        temp = pd.Series(data = hue)\n",
    "        fig, ax = plt.subplots()\n",
    "        width = len(df[col].unique()) + 6 + 4*len(temp.unique())\n",
    "        fig.set_size_inches(width , 7)\n",
    "        ax = sns.countplot(data = df, x= col, order=df[col].value_counts().index,hue = hue) \n",
    "        if len(temp.unique()) > 0:\n",
    "            for p in ax.patches:\n",
    "                ax.annotate('{:1.1f}%'.format((p.get_height()*100)/float(len(loan))), (p.get_x()+0.05, p.get_height()+20))  \n",
    "        else:\n",
    "            for p in ax.patches:\n",
    "                ax.annotate(p.get_height(), (p.get_x()+0.32, p.get_height()+20)) \n",
    "        del temp\n",
    "    else:\n",
    "        exit\n",
    "        \n",
    "    \n",
    "    #plt.show()"
   ]
  },
  {
   "cell_type": "code",
   "execution_count": null,
   "metadata": {},
   "outputs": [],
   "source": [
    "univariate(df=csc_data_final,col='Cost_of_Attendance',vartype=0)\n",
    "plt.savefig(\"outputs/vk_Cost_of_Attendance.png\")\n",
    "plt.show()"
   ]
  },
  {
   "cell_type": "code",
   "execution_count": null,
   "metadata": {},
   "outputs": [],
   "source": [
    "univariate(df=csc_data_final,col='Student_Size',vartype=0)\n",
    "plt.savefig(\"outputs/vk_Student_Size.png\")\n",
    "plt.show()"
   ]
  },
  {
   "cell_type": "code",
   "execution_count": null,
   "metadata": {},
   "outputs": [],
   "source": [
    "univariate(df=csc_data_final,col='Completion_Rate',vartype=0)\n",
    "plt.savefig(\"outputs/vk_Completion_Rate.png\")\n",
    "plt.show()"
   ]
  },
  {
   "cell_type": "code",
   "execution_count": null,
   "metadata": {},
   "outputs": [],
   "source": [
    "loan_data = csc_data_final[[\"Cost_of_Attendance\", \"In-State_Tuition\", \"Completion_Rate\", \"Median_Debt_for_Female_Students\" , \"Median_Debt_with_income_between_30,001-75k\", \"Median_Loan_Principal\", \"Median_Debt_for_Male_Students\", \"Median_Debt_with_income_between_0-30k\"]]\n",
    "loan_data.head()"
   ]
  },
  {
   "cell_type": "code",
   "execution_count": null,
   "metadata": {},
   "outputs": [],
   "source": [
    "loan_correlation = loan_data.corr()\n",
    "loan_correlation.head()"
   ]
  },
  {
   "cell_type": "code",
   "execution_count": null,
   "metadata": {},
   "outputs": [],
   "source": [
    "sns_plot = sns.clustermap(loan_correlation, cmap=\"Blues\", \n",
    "            xticklabels=loan_correlation.columns.values,\n",
    "            yticklabels=loan_correlation.columns.values,annot= True, robust=True)\n",
    "plt.show()\n",
    "sns_plot.savefig(\"outputs/vk_correlation.png\")"
   ]
  },
  {
   "cell_type": "code",
   "execution_count": null,
   "metadata": {},
   "outputs": [],
   "source": []
  },
  {
   "cell_type": "markdown",
   "metadata": {},
   "source": [
    "### Vikash's Code - End"
   ]
  }
 ],
 "metadata": {
  "kernelspec": {
   "display_name": "Python 3",
   "language": "python",
   "name": "python3"
  },
  "language_info": {
   "codemirror_mode": {
    "name": "ipython",
    "version": 3
   },
   "file_extension": ".py",
   "mimetype": "text/x-python",
   "name": "python",
   "nbconvert_exporter": "python",
   "pygments_lexer": "ipython3",
   "version": "3.7.4"
  }
 },
 "nbformat": 4,
 "nbformat_minor": 2
}
