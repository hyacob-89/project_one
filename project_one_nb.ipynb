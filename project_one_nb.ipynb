{
 "cells": [
  {
   "cell_type": "code",
   "execution_count": 2,
   "metadata": {},
   "outputs": [],
   "source": [
    "#Dependancies\n",
    "import requests\n",
    "import pandas as pd\n",
    "import numpy as np\n",
    "import json\n",
    "import seaborn as sb\n",
    "import matplotlib.pyplot as plt\n",
    "from config import college_scorecard_api_key"
   ]
  },
  {
   "cell_type": "code",
   "execution_count": null,
   "metadata": {},
   "outputs": [],
   "source": [
    "# Call in 2017 'College Scorecard (i.e. csc)' API ; only schools that offer a bachelor's or graduate degree\n",
    "year = \"2017\"\n",
    "csc_url = \"https://api.data.gov/ed/collegescorecard/v1/schools.json?school.degrees_awarded.highest=3,4&\"\n",
    "\n",
    "csc_2017_query_url = f'{csc_url}api_key={college_scorecard_api_key}&_fields=id,school.name,school.city,school.state_fips,school.zip,location.lat,location.lon,{year}.aid.loan_principal'\n",
    "csc_2017_response = requests.get(csc_2017_query_url).json()\n",
    "page_num = csc_2017_response['metadata']['page']\n",
    "\n",
    "\n",
    "for page in range(0, 10):\n",
    "    csc_2017_response = requests.get(csc_2017_query_url, params={'page': page, 'per_page': 100}).json()\n",
    "    csc_json_data = csc_2017_response['results']\n",
    "    #print(str(csc_json_data))   \n"
   ]
  },
  {
   "cell_type": "code",
   "execution_count": null,
   "metadata": {},
   "outputs": [],
   "source": [
    "data_frame = pd.DataFrame(csc_json_data)\n",
    "data_frame"
   ]
  },
  {
   "cell_type": "code",
   "execution_count": null,
   "metadata": {},
   "outputs": [],
   "source": []
  },
  {
   "cell_type": "code",
   "execution_count": null,
   "metadata": {},
   "outputs": [],
   "source": [
    "fips_path = \"Resources/State FIPS Codes.csv\"\n",
    "fips_states_df = pd.read_csv(fips_path)\n",
    "fips_codes = fips_states_df['State Code'].tolist()\n",
    "\n",
    "fips_states_df.head()"
   ]
  },
  {
   "cell_type": "code",
   "execution_count": null,
   "metadata": {},
   "outputs": [],
   "source": []
  },
  {
   "cell_type": "markdown",
   "metadata": {},
   "source": [
    "### Henock's Code - Start"
   ]
  },
  {
   "cell_type": "code",
   "execution_count": null,
   "metadata": {},
   "outputs": [],
   "source": []
  },
  {
   "cell_type": "code",
   "execution_count": null,
   "metadata": {},
   "outputs": [],
   "source": []
  },
  {
   "cell_type": "code",
   "execution_count": null,
   "metadata": {},
   "outputs": [],
   "source": []
  },
  {
   "cell_type": "markdown",
   "metadata": {},
   "source": [
    "### Henock's Code - End"
   ]
  },
  {
   "cell_type": "markdown",
   "metadata": {},
   "source": [
    "----------------------------------------------"
   ]
  },
  {
   "cell_type": "markdown",
   "metadata": {},
   "source": [
    "### JJ's Code - Start"
   ]
  },
  {
   "cell_type": "code",
   "execution_count": 5,
   "metadata": {},
   "outputs": [],
   "source": [
    "# Call in 2017 'College Scorecard (i.e. csc)' API ; only schools that offer a bachelor's or graduate degree\n",
    "year = \"2017\"\n",
    "csc_url = \"https://api.data.gov/ed/collegescorecard/v1/schools.json?school.degrees_awarded.highest=3,4&\"\n",
    "\n",
    "csc_2017_query_url = f'{csc_url}api_key={college_scorecard_api_key}&_fields=id,school.name,school.city,school.state,school.zip,location.lat,location.lon,{year}.aid.loan_principal'\n",
    "csc_2017_response = requests.get(csc_2017_query_url).json()\n",
    "page_num = csc_2017_response['metadata']['page']\n",
    "\n",
    "\n",
    "for page in range(0, 10):\n",
    "    csc_2017_response = requests.get(csc_2017_query_url, params={'page': page, 'per_page': 200}).json()\n",
    "    csc_json_data = csc_2017_response['results']\n",
    "    #print(str(csc_json_data))   \n"
   ]
  },
  {
   "cell_type": "code",
   "execution_count": 13,
   "metadata": {},
   "outputs": [
    {
     "data": {
      "text/html": [
       "<div>\n",
       "<style scoped>\n",
       "    .dataframe tbody tr th:only-of-type {\n",
       "        vertical-align: middle;\n",
       "    }\n",
       "\n",
       "    .dataframe tbody tr th {\n",
       "        vertical-align: top;\n",
       "    }\n",
       "\n",
       "    .dataframe thead th {\n",
       "        text-align: right;\n",
       "    }\n",
       "</style>\n",
       "<table border=\"1\" class=\"dataframe\">\n",
       "  <thead>\n",
       "    <tr style=\"text-align: right;\">\n",
       "      <th></th>\n",
       "      <th>school.zip</th>\n",
       "      <th>location.lat</th>\n",
       "      <th>location.lon</th>\n",
       "      <th>school.name</th>\n",
       "      <th>school.state</th>\n",
       "      <th>id</th>\n",
       "      <th>school.city</th>\n",
       "      <th>2017.aid.loan_principal</th>\n",
       "    </tr>\n",
       "  </thead>\n",
       "  <tbody>\n",
       "    <tr>\n",
       "      <td>0</td>\n",
       "      <td>91711-3199</td>\n",
       "      <td>34.107602</td>\n",
       "      <td>-117.715256</td>\n",
       "      <td>Claremont School of Theology</td>\n",
       "      <td>CA</td>\n",
       "      <td>124283</td>\n",
       "      <td>Claremont</td>\n",
       "      <td>NaN</td>\n",
       "    </tr>\n",
       "    <tr>\n",
       "      <td>1</td>\n",
       "      <td>90601</td>\n",
       "      <td>33.978773</td>\n",
       "      <td>-118.032299</td>\n",
       "      <td>Whittier College</td>\n",
       "      <td>CA</td>\n",
       "      <td>125763</td>\n",
       "      <td>Whittier</td>\n",
       "      <td>18250.0</td>\n",
       "    </tr>\n",
       "    <tr>\n",
       "      <td>2</td>\n",
       "      <td>92618-3601</td>\n",
       "      <td>33.658464</td>\n",
       "      <td>-117.760902</td>\n",
       "      <td>Western State College of Law at Argosy University</td>\n",
       "      <td>CA</td>\n",
       "      <td>126030</td>\n",
       "      <td>Irvine</td>\n",
       "      <td>15585.0</td>\n",
       "    </tr>\n",
       "    <tr>\n",
       "      <td>3</td>\n",
       "      <td>92101</td>\n",
       "      <td>32.710140</td>\n",
       "      <td>-117.154191</td>\n",
       "      <td>Thomas Jefferson School of Law</td>\n",
       "      <td>CA</td>\n",
       "      <td>126049</td>\n",
       "      <td>San Diego</td>\n",
       "      <td>NaN</td>\n",
       "    </tr>\n",
       "    <tr>\n",
       "      <td>4</td>\n",
       "      <td>80302-6697</td>\n",
       "      <td>40.014235</td>\n",
       "      <td>-105.266987</td>\n",
       "      <td>Naropa University</td>\n",
       "      <td>CO</td>\n",
       "      <td>127653</td>\n",
       "      <td>Boulder</td>\n",
       "      <td>16125.0</td>\n",
       "    </tr>\n",
       "    <tr>\n",
       "      <td>...</td>\n",
       "      <td>...</td>\n",
       "      <td>...</td>\n",
       "      <td>...</td>\n",
       "      <td>...</td>\n",
       "      <td>...</td>\n",
       "      <td>...</td>\n",
       "      <td>...</td>\n",
       "      <td>...</td>\n",
       "    </tr>\n",
       "    <tr>\n",
       "      <td>95</td>\n",
       "      <td>98033</td>\n",
       "      <td>47.657502</td>\n",
       "      <td>-122.195774</td>\n",
       "      <td>Northwest University-College of Adult and Prof...</td>\n",
       "      <td>WA</td>\n",
       "      <td>487603</td>\n",
       "      <td>Kirkland</td>\n",
       "      <td>13000.0</td>\n",
       "    </tr>\n",
       "    <tr>\n",
       "      <td>96</td>\n",
       "      <td>22030-0000</td>\n",
       "      <td>38.849050</td>\n",
       "      <td>-77.347751</td>\n",
       "      <td>Virginia International University</td>\n",
       "      <td>VA</td>\n",
       "      <td>460376</td>\n",
       "      <td>Fairfax</td>\n",
       "      <td>NaN</td>\n",
       "    </tr>\n",
       "    <tr>\n",
       "      <td>97</td>\n",
       "      <td>78224</td>\n",
       "      <td>29.304762</td>\n",
       "      <td>-98.524170</td>\n",
       "      <td>Texas A&amp;M University-San Antonio</td>\n",
       "      <td>TX</td>\n",
       "      <td>459949</td>\n",
       "      <td>San Antonio</td>\n",
       "      <td>6700.0</td>\n",
       "    </tr>\n",
       "    <tr>\n",
       "      <td>98</td>\n",
       "      <td>38163</td>\n",
       "      <td>35.140231</td>\n",
       "      <td>-90.033138</td>\n",
       "      <td>The University of Tennessee Health Science Center</td>\n",
       "      <td>TN</td>\n",
       "      <td>487010</td>\n",
       "      <td>Memphis</td>\n",
       "      <td>12500.0</td>\n",
       "    </tr>\n",
       "    <tr>\n",
       "      <td>99</td>\n",
       "      <td>92106</td>\n",
       "      <td>32.732001</td>\n",
       "      <td>-117.217661</td>\n",
       "      <td>High Tech High Graduate School of Education</td>\n",
       "      <td>CA</td>\n",
       "      <td>485403</td>\n",
       "      <td>San Diego</td>\n",
       "      <td>NaN</td>\n",
       "    </tr>\n",
       "  </tbody>\n",
       "</table>\n",
       "<p>100 rows × 8 columns</p>\n",
       "</div>"
      ],
      "text/plain": [
       "    school.zip  location.lat  location.lon  \\\n",
       "0   91711-3199     34.107602   -117.715256   \n",
       "1        90601     33.978773   -118.032299   \n",
       "2   92618-3601     33.658464   -117.760902   \n",
       "3        92101     32.710140   -117.154191   \n",
       "4   80302-6697     40.014235   -105.266987   \n",
       "..         ...           ...           ...   \n",
       "95       98033     47.657502   -122.195774   \n",
       "96  22030-0000     38.849050    -77.347751   \n",
       "97       78224     29.304762    -98.524170   \n",
       "98       38163     35.140231    -90.033138   \n",
       "99       92106     32.732001   -117.217661   \n",
       "\n",
       "                                          school.name school.state      id  \\\n",
       "0                        Claremont School of Theology           CA  124283   \n",
       "1                                    Whittier College           CA  125763   \n",
       "2   Western State College of Law at Argosy University           CA  126030   \n",
       "3                      Thomas Jefferson School of Law           CA  126049   \n",
       "4                                   Naropa University           CO  127653   \n",
       "..                                                ...          ...     ...   \n",
       "95  Northwest University-College of Adult and Prof...           WA  487603   \n",
       "96                  Virginia International University           VA  460376   \n",
       "97                   Texas A&M University-San Antonio           TX  459949   \n",
       "98  The University of Tennessee Health Science Center           TN  487010   \n",
       "99        High Tech High Graduate School of Education           CA  485403   \n",
       "\n",
       "    school.city  2017.aid.loan_principal  \n",
       "0     Claremont                      NaN  \n",
       "1      Whittier                  18250.0  \n",
       "2        Irvine                  15585.0  \n",
       "3     San Diego                      NaN  \n",
       "4       Boulder                  16125.0  \n",
       "..          ...                      ...  \n",
       "95     Kirkland                  13000.0  \n",
       "96      Fairfax                      NaN  \n",
       "97  San Antonio                   6700.0  \n",
       "98      Memphis                  12500.0  \n",
       "99    San Diego                      NaN  \n",
       "\n",
       "[100 rows x 8 columns]"
      ]
     },
     "execution_count": 13,
     "metadata": {},
     "output_type": "execute_result"
    }
   ],
   "source": [
    "data_frame = pd.DataFrame(csc_json_data)\n",
    "data_frame"
   ]
  },
  {
   "cell_type": "code",
   "execution_count": 15,
   "metadata": {},
   "outputs": [
    {
     "data": {
      "text/html": [
       "<div>\n",
       "<style scoped>\n",
       "    .dataframe tbody tr th:only-of-type {\n",
       "        vertical-align: middle;\n",
       "    }\n",
       "\n",
       "    .dataframe tbody tr th {\n",
       "        vertical-align: top;\n",
       "    }\n",
       "\n",
       "    .dataframe thead th {\n",
       "        text-align: right;\n",
       "    }\n",
       "</style>\n",
       "<table border=\"1\" class=\"dataframe\">\n",
       "  <thead>\n",
       "    <tr style=\"text-align: right;\">\n",
       "      <th></th>\n",
       "      <th>Zip Code</th>\n",
       "      <th>Lattitude</th>\n",
       "      <th>Longitude</th>\n",
       "      <th>School name</th>\n",
       "      <th>State</th>\n",
       "      <th>id</th>\n",
       "      <th>City</th>\n",
       "      <th>2017 loan Principal</th>\n",
       "    </tr>\n",
       "  </thead>\n",
       "  <tbody>\n",
       "    <tr>\n",
       "      <td>0</td>\n",
       "      <td>91711-3199</td>\n",
       "      <td>34.107602</td>\n",
       "      <td>-117.715256</td>\n",
       "      <td>Claremont School of Theology</td>\n",
       "      <td>CA</td>\n",
       "      <td>124283</td>\n",
       "      <td>Claremont</td>\n",
       "      <td>NaN</td>\n",
       "    </tr>\n",
       "    <tr>\n",
       "      <td>1</td>\n",
       "      <td>90601</td>\n",
       "      <td>33.978773</td>\n",
       "      <td>-118.032299</td>\n",
       "      <td>Whittier College</td>\n",
       "      <td>CA</td>\n",
       "      <td>125763</td>\n",
       "      <td>Whittier</td>\n",
       "      <td>18250.0</td>\n",
       "    </tr>\n",
       "    <tr>\n",
       "      <td>2</td>\n",
       "      <td>92618-3601</td>\n",
       "      <td>33.658464</td>\n",
       "      <td>-117.760902</td>\n",
       "      <td>Western State College of Law at Argosy University</td>\n",
       "      <td>CA</td>\n",
       "      <td>126030</td>\n",
       "      <td>Irvine</td>\n",
       "      <td>15585.0</td>\n",
       "    </tr>\n",
       "    <tr>\n",
       "      <td>3</td>\n",
       "      <td>92101</td>\n",
       "      <td>32.710140</td>\n",
       "      <td>-117.154191</td>\n",
       "      <td>Thomas Jefferson School of Law</td>\n",
       "      <td>CA</td>\n",
       "      <td>126049</td>\n",
       "      <td>San Diego</td>\n",
       "      <td>NaN</td>\n",
       "    </tr>\n",
       "    <tr>\n",
       "      <td>4</td>\n",
       "      <td>80302-6697</td>\n",
       "      <td>40.014235</td>\n",
       "      <td>-105.266987</td>\n",
       "      <td>Naropa University</td>\n",
       "      <td>CO</td>\n",
       "      <td>127653</td>\n",
       "      <td>Boulder</td>\n",
       "      <td>16125.0</td>\n",
       "    </tr>\n",
       "  </tbody>\n",
       "</table>\n",
       "</div>"
      ],
      "text/plain": [
       "     Zip Code  Lattitude   Longitude  \\\n",
       "0  91711-3199  34.107602 -117.715256   \n",
       "1       90601  33.978773 -118.032299   \n",
       "2  92618-3601  33.658464 -117.760902   \n",
       "3       92101  32.710140 -117.154191   \n",
       "4  80302-6697  40.014235 -105.266987   \n",
       "\n",
       "                                         School name State      id       City  \\\n",
       "0                       Claremont School of Theology    CA  124283  Claremont   \n",
       "1                                   Whittier College    CA  125763   Whittier   \n",
       "2  Western State College of Law at Argosy University    CA  126030     Irvine   \n",
       "3                     Thomas Jefferson School of Law    CA  126049  San Diego   \n",
       "4                                  Naropa University    CO  127653    Boulder   \n",
       "\n",
       "   2017 loan Principal  \n",
       "0                  NaN  \n",
       "1              18250.0  \n",
       "2              15585.0  \n",
       "3                  NaN  \n",
       "4              16125.0  "
      ]
     },
     "execution_count": 15,
     "metadata": {},
     "output_type": "execute_result"
    }
   ],
   "source": [
    "new_data_frame = data_frame.rename(columns={\"school.zip\": \"Zip Code\",\n",
    "                                      \"location.lat\": \"Lattitude\",\n",
    "                                      \"location.lon\": \"Longitude\",\n",
    "                                       \"school.name\": \"School name\",\n",
    "                                       \"school.state\": \"State\",\n",
    "                                       \"school.city\": \"City\",\n",
    "                                       \"2017.aid.loan_principal\": \"2017 loan Principal\"})\n",
    "\n",
    "new_data_frame.head()"
   ]
  },
  {
   "cell_type": "code",
   "execution_count": 54,
   "metadata": {
    "scrolled": true
   },
   "outputs": [
    {
     "data": {
      "image/png": "[encoded data removed]",
      "text/plain": [
       "<Figure size 576x1152 with 1 Axes>"
      ]
     },
     "metadata": {},
     "output_type": "display_data"
    }
   ],
   "source": [
    "plt.figure(figsize = (8, 16))\n",
    "\n",
    "# plot\n",
    "ax = sb.barplot(new_data_frame.State.value_counts().values, list(new_data_frame.State.value_counts().index), \n",
    "           palette = sb.color_palette('RdPu_r', len(new_data_frame.State.value_counts())))\n",
    "\n",
    "\n",
    "# plot labels\n",
    "plt.title('Institutes per state', fontsize = 15)\n",
    "plt.xlabel('Number of Institutes', fontsize = 13)\n",
    "plt.ylabel('State', fontsize = 13)\n",
    "plt.xticks([], [])\n",
    "plt.yticks(fontsize = 15)\n",
    "\n",
    "plt.show();"
   ]
  },
  {
   "cell_type": "markdown",
   "metadata": {},
   "source": [
    "### JJ's Code - End"
   ]
  },
  {
   "cell_type": "markdown",
   "metadata": {},
   "source": [
    "----------------------------------------------"
   ]
  },
  {
   "cell_type": "markdown",
   "metadata": {},
   "source": [
    "### Ana's Code - Start"
   ]
  },
  {
   "cell_type": "code",
   "execution_count": null,
   "metadata": {},
   "outputs": [],
   "source": []
  },
  {
   "cell_type": "code",
   "execution_count": null,
   "metadata": {},
   "outputs": [],
   "source": []
  },
  {
   "cell_type": "code",
   "execution_count": null,
   "metadata": {},
   "outputs": [],
   "source": []
  },
  {
   "cell_type": "markdown",
   "metadata": {},
   "source": [
    "### Ana's Code - End"
   ]
  },
  {
   "cell_type": "markdown",
   "metadata": {},
   "source": [
    "----------------------------------------------"
   ]
  },
  {
   "cell_type": "markdown",
   "metadata": {},
   "source": [
    "### Vikash's Code - Start"
   ]
  },
  {
   "cell_type": "code",
   "execution_count": null,
   "metadata": {},
   "outputs": [],
   "source": []
  },
  {
   "cell_type": "code",
   "execution_count": null,
   "metadata": {},
   "outputs": [],
   "source": []
  },
  {
   "cell_type": "code",
   "execution_count": null,
   "metadata": {},
   "outputs": [],
   "source": []
  },
  {
   "cell_type": "markdown",
   "metadata": {},
   "source": [
    "### Vikash's Code - End"
   ]
  }
 ],
 "metadata": {
  "kernelspec": {
   "display_name": "Python 3",
   "language": "python",
   "name": "python3"
  },
  "language_info": {
   "codemirror_mode": {
    "name": "ipython",
    "version": 3
   },
   "file_extension": ".py",
   "mimetype": "text/x-python",
   "name": "python",
   "nbconvert_exporter": "python",
   "pygments_lexer": "ipython3",
   "version": "3.7.4"
  }
 },
 "nbformat": 4,
 "nbformat_minor": 2
}
