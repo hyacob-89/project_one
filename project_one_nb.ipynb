{
 "cells": [
  {
   "cell_type": "code",
   "execution_count": null,
   "metadata": {},
   "outputs": [],
   "source": [
    "#Dependancies\n",
    "%matplotlib inline\n",
    "import matplotlib\n",
    "import requests\n",
    "import pandas as pd\n",
    "import json\n",
    "import matplotlib.pyplot as plt\n",
    "import numpy as np\n",
    "import scipy.stats as stats\n",
    "\n",
    "from config import college_scorecard_api_key\n"
   ]
  },
  {
   "cell_type": "code",
   "execution_count": null,
   "metadata": {},
   "outputs": [],
   "source": [
    "# Call in 'College Scorecard (i.e. csc)' API ; only schools that offer a bachelor's or graduate degree\n",
    "csc_url = \"https://api.data.gov/ed/collegescorecard/v1/schools.json?school.degrees_awarded.highest=3,4&\"\n",
    "\n",
    "csc_2017_query_url = f'{csc_url}api_key={college_scorecard_api_key}&_fields=id,school.name,school.city,school.state_fips,school.zip,location.lat,location.lon,2017'\n",
    "csc_2017_response = requests.get(csc_2017_query_url).json()\n",
    "\n",
    "# Identify JSON page number\n",
    "csc_json_data = []\n",
    "\n",
    "# Loop through each JSON page and extract JSON data into a list\n",
    "for page in range(0, 29):\n",
    "    csc_2017_response = requests.get(csc_2017_query_url, params={'page': page, 'per_page': 100}).json()\n",
    "    csc_json_data.append(csc_2017_response['results'])\n",
    "\n",
    "    csc_data_list = []\n",
    "    for csc_data in csc_json_data:\n",
    "        for csc_objects in csc_data:\n",
    "            csc_data_list.append(csc_objects)\n",
    "\n",
    "# Convert JSON list into a Dataframe\n",
    "csc_data_frame = pd.DataFrame(csc_data_list)\n"
   ]
  },
  {
   "cell_type": "code",
   "execution_count": null,
   "metadata": {},
   "outputs": [],
   "source": [
    "# Pull columns needed\n",
    "csc_data_table_pull = csc_data_frame[['school.name',\n",
    "                                     'school.city',\n",
    "                                     'school.state_fips',\n",
    "                                     'location.lat',\n",
    "                                     'location.lon',\n",
    "                                     '2017.student.size',\n",
    "                                     '2017.cost.attendance.academic_year',\n",
    "                                     '2017.cost.tuition.in_state',\n",
    "                                     '2017.cost.tuition.out_of_state',\n",
    "                                     '2017.student.retention_rate.four_year.full_time',\n",
    "                                     '2017.aid.federal_loan_rate',\n",
    "                                     '2017.aid.loan_principal',\n",
    "                                     '2017.aid.median_debt.completers.overall',\n",
    "                                     '2017.aid.median_debt.income.0_30000',\n",
    "                                     '2017.aid.median_debt.income.30001_75000',\n",
    "                                     '2017.aid.median_debt.income.greater_than_75000',\n",
    "                                     '2017.aid.median_debt.female_students',\n",
    "                                     '2017.aid.median_debt.male_students',\n",
    "                                     '2017.completion.rate_suppressed.overall']].dropna().reset_index(drop=True)\n",
    "\n",
    "# Clean column headers\n",
    "csc_data_table_header_clean = csc_data_table_pull.rename(columns = {'school.name': 'School Name',\n",
    "                                                              'school.city': 'City',\n",
    "                                                              'school.state_fips': 'State Code',\n",
    "                                                              'location.lat': 'Latitude',\n",
    "                                                              'location.lon': 'Longitude',\n",
    "                                                              '2017.student.size': 'Student Size',\n",
    "                                                              '2017.cost.attendance.academic_year': 'Cost of Attendance',\n",
    "                                                              '2017.cost.tuition.in_state': 'In-State Tuition',\n",
    "                                                              '2017.cost.tuition.out_of_state': 'Out-of-State Tuition',\n",
    "                                                              '2017.student.retention_rate.four_year.full_time': 'Retention Rate: Fulltime Student',\n",
    "                                                              '2017.aid.federal_loan_rate': '% of Undergrad Students Recieving Fed Student Loan',\n",
    "                                                              '2017.aid.loan_principal': 'Median Loan Principal',\n",
    "                                                              '2017.aid.median_debt.completers.overall': 'Median Debt',\n",
    "                                                              '2017.aid.median_debt.income.0_30000': 'Median Debt with income between 0-30k',\n",
    "                                                              '2017.aid.median_debt.income.30001_75000': 'Median Debt with income between 30,001-75k',\n",
    "                                                              '2017.aid.median_debt.income.greater_than_75000': 'Median Debt with income greater than 75k',\n",
    "                                                              '2017.aid.median_debt.female_students': 'Median Debt for Female Students',\n",
    "                                                              '2017.aid.median_debt.male_students': 'Median Debt for Male Students',\n",
    "                                                              '2017.completion.rate_suppressed.overall': 'Completion Rate'})\n"
   ]
  },
  {
   "cell_type": "code",
   "execution_count": null,
   "metadata": {},
   "outputs": [],
   "source": [
    "# Pull in and merge State names.\n",
    "\n",
    "fips_path = \"Resources/State FIPS Codes.csv\"\n",
    "fips_states_df = pd.read_csv(fips_path)\n",
    "\n",
    "csc_data_final = pd.merge(csc_data_table_header_clean, fips_states_df, on='State Code')"
   ]
  },
  {
   "cell_type": "markdown",
   "metadata": {},
   "source": [
    "### Henock's Code - Start"
   ]
  },
  {
   "cell_type": "code",
   "execution_count": null,
   "metadata": {},
   "outputs": [],
   "source": [
    "csc_data_50_states = csc_data_final.loc[csc_data_final[\"State Name\"] != 'District of Columbia', :]\n",
    "#csc_data_50_states"
   ]
  },
  {
   "cell_type": "code",
   "execution_count": null,
   "metadata": {},
   "outputs": [],
   "source": [
    "# Group by State - Averages\n",
    "csc_grouped_data = csc_data_50_states.groupby(['State Name']).mean()\n",
    "\n",
    "# Avg. Cost of Attendance by State\n",
    "csc_sorted_data_ca = csc_grouped_data.sort_values('Cost of Attendance', ascending = False)\n",
    "avg_ca_by_state = csc_sorted_data_ca['Cost of Attendance'].reset_index()\n",
    "top_ten_avg_ca_by_state = avg_ca_by_state.head(10)\n",
    "\n",
    "fig, ax = plt.subplots(figsize = (7, 5))\n",
    "\n",
    "state_names_x = top_ten_avg_ca_by_state['State Name'].tolist()\n",
    "ca_debt_y = top_ten_avg_ca_by_state['Cost of Attendance'].tolist()\n",
    "y_pos = np.arange(len(state_names_x))\n",
    "\n",
    "ax.barh(y_pos, ca_debt_y, align='center')\n",
    "ax.set_yticks(y_pos)\n",
    "ax.set_yticklabels(state_names_x)\n",
    "ax.invert_yaxis() \n",
    "ax.set_xlabel('Cost of Attendance')\n",
    "ax.set_title('Avg. Cost of Attendance by State')\n",
    "plt.xlim(20000, max(ca_debt_y)+1000)\n",
    "plt.ylim(10, -1)\n",
    "\n",
    "\n",
    "# Avg. Median Debt by State\n",
    "csc_sorted_data_md = csc_grouped_data.sort_values('Median Debt', ascending = False)\n",
    "avg_md_state = csc_sorted_data_md['Median Debt'].reset_index()\n",
    "top_ten_avg_md_by_state = avg_md_state.head(10)\n",
    "\n",
    "fig, ax = plt.subplots(figsize = (7, 5))\n",
    "\n",
    "state_names_x = top_ten_avg_md_by_state['State Name'].tolist()\n",
    "md_debt_y = top_ten_avg_md_by_state['Median Debt'].tolist()\n",
    "y_pos = np.arange(len(state_names_x))\n",
    "\n",
    "ax.barh(y_pos, md_debt_y, align='center')\n",
    "ax.set_yticks(y_pos)\n",
    "ax.set_yticklabels(state_names_x)\n",
    "ax.invert_yaxis() \n",
    "ax.set_xlabel('Median Debt')\n",
    "ax.set_title('Avg. Median Debt by State')\n",
    "plt.xlim(20000, max(md_debt_y)+1000)\n",
    "plt.ylim(10, -1)"
   ]
  },
  {
   "cell_type": "code",
   "execution_count": null,
   "metadata": {},
   "outputs": [],
   "source": [
    "# Poulation data for t-Test\n",
    "\n",
    "csc_ca_population = csc_data_final['Cost of Attendance']\n",
    "csc_md_population = csc_data_final['Median Debt']\n",
    "\n",
    "# Scatter Plot of Data\n",
    "plt.subplot(2, 1, 1)\n",
    "plt.scatter(range(len(csc_ca_population)), csc_ca_population, label=\"Cost of Attendance\")\n",
    "plt.scatter(range(len(csc_md_population)), csc_md_population, label=\"Median Debt\")\n",
    "plt.legend()\n",
    "\n",
    "# Histogram Plot of Data\n",
    "plt.subplot(2, 1, 2)\n",
    "plt.hist(csc_ca_population, 10, density=True, alpha=0.7, label=\"Cost of Attendance\")\n",
    "plt.hist(csc_md_population, 10, density=True, alpha=0.7, label=\"Median Debt\")\n",
    "plt.axvline(csc_ca_population.mean(), color='k', linestyle='dashed', linewidth=1)\n",
    "plt.axvline(csc_md_population.mean(), color='k', linestyle='dashed', linewidth=1)\n",
    "plt.legend() \n"
   ]
  },
  {
   "cell_type": "code",
   "execution_count": null,
   "metadata": {},
   "outputs": [],
   "source": [
    "stats.ttest_ind(csc_ca_population, csc_md_population, equal_var=False)"
   ]
  },
  {
   "cell_type": "code",
   "execution_count": null,
   "metadata": {},
   "outputs": [],
   "source": []
  },
  {
   "cell_type": "code",
   "execution_count": null,
   "metadata": {},
   "outputs": [],
   "source": [
    "\n"
   ]
  },
  {
   "cell_type": "code",
   "execution_count": null,
   "metadata": {},
   "outputs": [],
   "source": []
  },
  {
   "cell_type": "markdown",
   "metadata": {},
   "source": [
    "### Henock's Code - End"
   ]
  },
  {
   "cell_type": "markdown",
   "metadata": {},
   "source": [
    "----------------------------------------------"
   ]
  },
  {
   "cell_type": "markdown",
   "metadata": {},
   "source": [
    "### JJ's Code - Start"
   ]
  },
  {
   "cell_type": "code",
   "execution_count": null,
   "metadata": {},
   "outputs": [],
   "source": []
  },
  {
   "cell_type": "code",
   "execution_count": null,
   "metadata": {},
   "outputs": [],
   "source": []
  },
  {
   "cell_type": "code",
   "execution_count": null,
   "metadata": {},
   "outputs": [],
   "source": []
  },
  {
   "cell_type": "markdown",
   "metadata": {},
   "source": [
    "### JJ's Code - End"
   ]
  },
  {
   "cell_type": "markdown",
   "metadata": {},
   "source": [
    "----------------------------------------------"
   ]
  },
  {
   "cell_type": "markdown",
   "metadata": {},
   "source": [
    "### Ana's Code - Start"
   ]
  },
  {
   "cell_type": "code",
   "execution_count": null,
   "metadata": {},
   "outputs": [],
   "source": []
  },
  {
   "cell_type": "code",
   "execution_count": null,
   "metadata": {},
   "outputs": [],
   "source": []
  },
  {
   "cell_type": "code",
   "execution_count": null,
   "metadata": {},
   "outputs": [],
   "source": []
  },
  {
   "cell_type": "markdown",
   "metadata": {},
   "source": [
    "### Ana's Code - End"
   ]
  },
  {
   "cell_type": "markdown",
   "metadata": {},
   "source": [
    "----------------------------------------------"
   ]
  },
  {
   "cell_type": "markdown",
   "metadata": {},
   "source": [
    "### Vikash's Code - Start"
   ]
  },
  {
   "cell_type": "code",
   "execution_count": null,
   "metadata": {},
   "outputs": [],
   "source": []
  },
  {
   "cell_type": "code",
   "execution_count": null,
   "metadata": {},
   "outputs": [],
   "source": []
  },
  {
   "cell_type": "code",
   "execution_count": null,
   "metadata": {},
   "outputs": [],
   "source": []
  },
  {
   "cell_type": "markdown",
   "metadata": {},
   "source": [
    "### Vikash's Code - End"
   ]
  }
 ],
 "metadata": {
  "kernelspec": {
   "display_name": "Python 3",
   "language": "python",
   "name": "python3"
  },
  "language_info": {
   "codemirror_mode": {
    "name": "ipython",
    "version": 3
   },
   "file_extension": ".py",
   "mimetype": "text/x-python",
   "name": "python",
   "nbconvert_exporter": "python",
   "pygments_lexer": "ipython3",
   "version": "3.6.9"
  }
 },
 "nbformat": 4,
 "nbformat_minor": 2
}
