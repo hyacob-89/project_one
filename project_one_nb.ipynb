{
 "cells": [
  {
   "cell_type": "code",
   "execution_count": 1,
   "metadata": {},
   "outputs": [],
   "source": [
    "#Dependancies\n",
    "import requests\n",
    "import pandas as pd\n",
    "import json\n",
    "from config import college_scorecard_api_key"
   ]
  },
  {
   "cell_type": "code",
   "execution_count": null,
   "metadata": {},
   "outputs": [],
   "source": [
    "# Call in 2017 'College Scorecard (i.e. csc)' API ; only schools that offer a bachelor's or graduate degree\n",
    "year = \"2017\"\n",
    "csc_url = \"https://api.data.gov/ed/collegescorecard/v1/schools.json?school.degrees_awarded.highest=3,4&\"\n",
    "\n",
    "csc_2017_query_url = f'{csc_url}api_key={college_scorecard_api_key}&_fields=id,school.name,school.city,school.state_fips,school.zip,location.lat,location.lon,{year}'\n",
    "csc_2017_response = requests.get(csc_2017_query_url).json()\n",
    "\n",
    "# Identify JSON page number\n",
    "page_num = csc_2017_response['metadata']['page']\n",
    "csc_json_data = []\n",
    "\n",
    "# Loop through each JSON page and extract JSON data into a list\n",
    "for page in range(0, 29):\n",
    "    csc_2017_response = requests.get(csc_2017_query_url, params={'page': page, 'per_page': 100}).json()\n",
    "    csc_json_data.append(csc_2017_response['results'])\n",
    "    csc_data_list = []\n",
    "    for csc_data in csc_json_data:\n",
    "        for csc_objects in csc_data:\n",
    "            csc_data_list.append(csc_objects)\n",
    "\n",
    "# Convert JSON list into a Dataframe\n",
    "csc_data_frame = pd.DataFrame(csc_data_list)"
   ]
  },
  {
   "cell_type": "code",
   "execution_count": null,
   "metadata": {},
   "outputs": [],
   "source": [
    "# Pull columns needed\n",
    "csc_data_table_pull = csc_data_frame[['school.name',\n",
    "                                     'school.city',\n",
    "                                     'school.state_fips',\n",
    "                                     'location.lat',\n",
    "                                     'location.lon',\n",
    "                                     '2017.student.size',\n",
    "                                     '2017.cost.attendance.academic_year',\n",
    "                                     '2017.cost.tuition.in_state',\n",
    "                                     '2017.cost.tuition.out_of_state',\n",
    "                                     '2017.student.retention_rate.four_year.full_time',\n",
    "                                     '2017.aid.federal_loan_rate',\n",
    "                                     '2017.aid.loan_principal',\n",
    "                                     '2017.aid.median_debt.completers.overall',\n",
    "                                     '2017.aid.median_debt.income.0_30000',\n",
    "                                     '2017.aid.median_debt.income.30001_75000',\n",
    "                                     '2017.aid.median_debt.income.greater_than_75000',\n",
    "                                     '2017.aid.median_debt.female_students',\n",
    "                                     '2017.aid.median_debt.male_students',\n",
    "                                     '2017.completion.rate_suppressed.overall']].dropna().reset_index(drop=True)\n",
    "\n",
    "# Clean column headers\n",
    "csc_data_table_header_clean = csc_data_table_pull.rename(columns = {'school.name': 'School Name',\n",
    "                                                              'school.city': 'City',\n",
    "                                                              'school.state_fips': 'State Code',\n",
    "                                                              'location.lat': 'Latitude',\n",
    "                                                              'location.lon': 'Longitude',\n",
    "                                                              '2017.student.size': 'Student Size',\n",
    "                                                              '2017.cost.attendance.academic_year': 'Cost of Attendance',\n",
    "                                                              '2017.cost.tuition.in_state': 'In-State Tuition',\n",
    "                                                              '2017.cost.tuition.out_of_state': 'Out-of-State Tuition',\n",
    "                                                              '2017.student.retention_rate.four_year.full_time': 'Retention Rate: Fulltime Student',\n",
    "                                                              '2017.aid.federal_loan_rate': '% of Undergrad Students Recieving Fed Student Loan',\n",
    "                                                              '2017.aid.loan_principal': 'Median Loan Principal',\n",
    "                                                              '2017.aid.median_debt.completers.overall': 'Median Debt',\n",
    "                                                              '2017.aid.median_debt.income.0_30000': 'Median Debt with income between 0-30k',\n",
    "                                                              '2017.aid.median_debt.income.30001_75000': 'Median Debt with income between 30,001-75k',\n",
    "                                                              '2017.aid.median_debt.income.greater_than_75000': 'Median Debt with income greater than 75k',\n",
    "                                                              '2017.aid.median_debt.female_students': 'Median Debt for Female Students',\n",
    "                                                              '2017.aid.median_debt.male_students': 'Median Debt for Male Students',\n",
    "                                                              '2017.completion.rate_suppressed.overall': 'Completion Rate'})\n"
   ]
  },
  {
   "cell_type": "code",
   "execution_count": null,
   "metadata": {},
   "outputs": [],
   "source": [
    "# Pull in and merge State names.\n",
    "\n",
    "fips_path = \"Resources/State FIPS Codes.csv\"\n",
    "fips_states_df = pd.read_csv(fips_path)\n",
    "\n",
    "csc_data_final = pd.merge(csc_data_table_header_clean, fips_states_df, on='State Code')\n",
    "csc_data_final"
   ]
  },
  {
   "cell_type": "code",
   "execution_count": null,
   "metadata": {},
   "outputs": [],
   "source": []
  },
  {
   "cell_type": "code",
   "execution_count": null,
   "metadata": {},
   "outputs": [],
   "source": []
  },
  {
   "cell_type": "code",
   "execution_count": null,
   "metadata": {},
   "outputs": [],
   "source": []
  },
  {
   "cell_type": "markdown",
   "metadata": {},
   "source": [
    "### Henock's Code - Start"
   ]
  },
  {
   "cell_type": "code",
   "execution_count": null,
   "metadata": {},
   "outputs": [],
   "source": [
    "#csc_data_final.corr(method = 'pearson')"
   ]
  },
  {
   "cell_type": "code",
   "execution_count": null,
   "metadata": {},
   "outputs": [],
   "source": []
  },
  {
   "cell_type": "code",
   "execution_count": null,
   "metadata": {},
   "outputs": [],
   "source": []
  },
  {
   "cell_type": "markdown",
   "metadata": {},
   "source": [
    "### Henock's Code - End"
   ]
  },
  {
   "cell_type": "markdown",
   "metadata": {},
   "source": [
    "----------------------------------------------"
   ]
  },
  {
   "cell_type": "markdown",
   "metadata": {},
   "source": [
    "### JJ's Code - Start"
   ]
  },
  {
   "cell_type": "code",
   "execution_count": null,
   "metadata": {},
   "outputs": [],
   "source": []
  },
  {
   "cell_type": "code",
   "execution_count": null,
   "metadata": {},
   "outputs": [],
   "source": []
  },
  {
   "cell_type": "code",
   "execution_count": null,
   "metadata": {},
   "outputs": [],
   "source": []
  },
  {
   "cell_type": "markdown",
   "metadata": {},
   "source": [
    "### JJ's Code - End"
   ]
  },
  {
   "cell_type": "markdown",
   "metadata": {},
   "source": [
    "----------------------------------------------"
   ]
  },
  {
   "cell_type": "markdown",
   "metadata": {},
   "source": [
    "### Ana's Code - Start"
   ]
  },
  {
   "cell_type": "code",
   "execution_count": null,
   "metadata": {},
   "outputs": [],
   "source": []
  },
  {
   "cell_type": "code",
   "execution_count": null,
   "metadata": {},
   "outputs": [],
   "source": []
  },
  {
   "cell_type": "code",
   "execution_count": null,
   "metadata": {},
   "outputs": [],
   "source": []
  },
  {
   "cell_type": "markdown",
   "metadata": {},
   "source": [
    "### Ana's Code - End"
   ]
  },
  {
   "cell_type": "markdown",
   "metadata": {},
   "source": [
    "----------------------------------------------"
   ]
  },
  {
   "cell_type": "markdown",
   "metadata": {},
   "source": [
    "### Vikash's Code - Start"
   ]
  },
  {
   "cell_type": "code",
   "execution_count": null,
   "metadata": {},
   "outputs": [],
   "source": []
  },
  {
   "cell_type": "code",
   "execution_count": null,
   "metadata": {},
   "outputs": [],
   "source": []
  },
  {
   "cell_type": "code",
   "execution_count": null,
   "metadata": {},
   "outputs": [],
   "source": []
  },
  {
   "cell_type": "markdown",
   "metadata": {},
   "source": [
    "### Vikash's Code - End"
   ]
  }
 ],
 "metadata": {
  "kernelspec": {
   "display_name": "Python 3",
   "language": "python",
   "name": "python3"
  },
  "language_info": {
   "codemirror_mode": {
    "name": "ipython",
    "version": 3
   },
   "file_extension": ".py",
   "mimetype": "text/x-python",
   "name": "python",
   "nbconvert_exporter": "python",
   "pygments_lexer": "ipython3",
   "version": "3.6.9"
  }
 },
 "nbformat": 4,
 "nbformat_minor": 2
}
