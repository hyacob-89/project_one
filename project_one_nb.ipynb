{
 "cells": [
  {
   "cell_type": "code",
   "execution_count": null,
   "metadata": {},
   "outputs": [],
   "source": [
    "#Dependancies\n",
    "import requests\n",
    "import pandas as pd\n",
    "import json\n",
    "from config import college_scorecard_api_key\n",
    "import csv\n",
    "import matplotlib.pyplot as plt\n",
    "from scipy import stats\n",
    "\n"
   ]
  },
  {
   "cell_type": "code",
   "execution_count": null,
   "metadata": {},
   "outputs": [],
   "source": [
    "# Call in 2017 'College Scorecard (i.e. csc)' API ; only schools that offer a bachelor's or graduate degree\n",
    "year = \"2017\"\n",
    "csc_url = \"https://api.data.gov/ed/collegescorecard/v1/schools.json?school.degrees_awarded.highest=3,4&\"\n",
    "\n",
    "csc_2017_query_url = f'{csc_url}api_key={college_scorecard_api_key}&_fields=id,school.name,school.city,school.state_fips,school.zip,location.lat,location.lon,{year}'\n",
    "csc_2017_response = requests.get(csc_2017_query_url).json()\n",
    "\n",
    "# Identify JSON page number\n",
    "page_num = csc_2017_response['metadata']['page']\n",
    "csc_json_data = []\n",
    "\n",
    "# Loop through each JSON page and extract JSON data into a list\n",
    "for page in range(0, 29):\n",
    "    csc_2017_response = requests.get(csc_2017_query_url, params={'page': page, 'per_page': 100}).json()\n",
    "    csc_json_data.append(csc_2017_response['results'])\n",
    "    csc_data_list = []\n",
    "    for csc_data in csc_json_data:\n",
    "        for csc_objects in csc_data:\n",
    "            csc_data_list.append(csc_objects)\n",
    "\n",
    "# Convert JSON list into a Dataframe\n",
    "csc_data_frame = pd.DataFrame(csc_data_list)"
   ]
  },
  {
   "cell_type": "code",
   "execution_count": null,
   "metadata": {},
   "outputs": [],
   "source": [
    "# Pull columns needed\n",
    "csc_data_table_pull = csc_data_frame[['school.name',\n",
    "                                     'school.city',\n",
    "                                     'school.state_fips',\n",
    "                                     'location.lat',\n",
    "                                     'location.lon',\n",
    "                                     '2017.student.size',\n",
    "                                     '2017.cost.attendance.academic_year',\n",
    "                                     '2017.cost.tuition.in_state',\n",
    "                                     '2017.cost.tuition.out_of_state',\n",
    "                                     '2017.student.retention_rate.four_year.full_time',\n",
    "                                     '2017.aid.federal_loan_rate',\n",
    "                                     '2017.aid.loan_principal',\n",
    "                                     '2017.aid.median_debt.completers.overall',\n",
    "                                     '2017.aid.median_debt.income.0_30000',\n",
    "                                     '2017.aid.median_debt.income.30001_75000',\n",
    "                                     '2017.aid.median_debt.income.greater_than_75000',\n",
    "                                     '2017.aid.median_debt.female_students',\n",
    "                                     '2017.aid.median_debt.male_students',\n",
    "                                     '2017.completion.rate_suppressed.overall']].dropna().reset_index(drop=True)\n",
    "\n",
    "# Clean column headers\n",
    "csc_data_table_header_clean = csc_data_table_pull.rename(columns = {'school.name': 'School Name',\n",
    "                                                              'school.city': 'City',\n",
    "                                                              'school.state_fips': 'State Code',\n",
    "                                                              'location.lat': 'Latitude',\n",
    "                                                              'location.lon': 'Longitude',\n",
    "                                                              '2017.student.size': 'Student Size',\n",
    "                                                              '2017.cost.attendance.academic_year': 'Cost of Attendance',\n",
    "                                                              '2017.cost.tuition.in_state': 'In-State Tuition',\n",
    "                                                              '2017.cost.tuition.out_of_state': 'Out-of-State Tuition',\n",
    "                                                              '2017.student.retention_rate.four_year.full_time': 'Retention Rate: Fulltime Student',\n",
    "                                                              '2017.aid.federal_loan_rate': '% of Undergrad Students Recieving Fed Student Loan',\n",
    "                                                              '2017.aid.loan_principal': 'Median Loan Principal',\n",
    "                                                              '2017.aid.median_debt.completers.overall': 'Median Debt',\n",
    "                                                              '2017.aid.median_debt.income.0_30000': 'Median Debt with income between 0-30k',\n",
    "                                                              '2017.aid.median_debt.income.30001_75000': 'Median Debt with income between 30,001-75k',\n",
    "                                                              '2017.aid.median_debt.income.greater_than_75000': 'Median Debt with income greater than 75k',\n",
    "                                                              '2017.aid.median_debt.female_students': 'Median Debt for Female Students',\n",
    "                                                              '2017.aid.median_debt.male_students': 'Median Debt for Male Students',\n",
    "                                                              '2017.completion.rate_suppressed.overall': 'Completion Rate'})\n"
   ]
  },
  {
   "cell_type": "code",
   "execution_count": null,
   "metadata": {},
   "outputs": [],
   "source": [
    "# Pull in and merge State names.\n",
    "\n",
    "fips_path = \"Resources/State FIPS Codes.csv\"\n",
    "fips_states_df = pd.read_csv(fips_path)\n",
    "\n",
    "csc_data_final = pd.merge(csc_data_table_header_clean, fips_states_df, on='State Code')\n",
    "csc_data_final.tail()"
   ]
  },
  {
   "cell_type": "code",
   "execution_count": null,
   "metadata": {},
   "outputs": [],
   "source": []
  },
  {
   "cell_type": "code",
   "execution_count": null,
   "metadata": {},
   "outputs": [],
   "source": []
  },
  {
   "cell_type": "code",
   "execution_count": null,
   "metadata": {},
   "outputs": [],
   "source": []
  },
  {
   "cell_type": "markdown",
   "metadata": {},
   "source": [
    "### Henock's Code - Start"
   ]
  },
  {
   "cell_type": "code",
   "execution_count": null,
   "metadata": {},
   "outputs": [],
   "source": []
  },
  {
   "cell_type": "code",
   "execution_count": null,
   "metadata": {},
   "outputs": [],
   "source": []
  },
  {
   "cell_type": "code",
   "execution_count": null,
   "metadata": {},
   "outputs": [],
   "source": []
  },
  {
   "cell_type": "markdown",
   "metadata": {},
   "source": [
    "### Henock's Code - End"
   ]
  },
  {
   "cell_type": "markdown",
   "metadata": {},
   "source": [
    "----------------------------------------------"
   ]
  },
  {
   "cell_type": "markdown",
   "metadata": {},
   "source": [
    "### JJ's Code - Start"
   ]
  },
  {
   "cell_type": "code",
   "execution_count": null,
   "metadata": {},
   "outputs": [],
   "source": []
  },
  {
   "cell_type": "code",
   "execution_count": null,
   "metadata": {},
   "outputs": [],
   "source": []
  },
  {
   "cell_type": "code",
   "execution_count": null,
   "metadata": {},
   "outputs": [],
   "source": []
  },
  {
   "cell_type": "markdown",
   "metadata": {},
   "source": [
    "### JJ's Code - End"
   ]
  },
  {
   "cell_type": "markdown",
   "metadata": {},
   "source": [
    "----------------------------------------------"
   ]
  },
  {
   "cell_type": "markdown",
   "metadata": {},
   "source": [
    "### Ana's Code - Start"
   ]
  },
  {
   "cell_type": "markdown",
   "metadata": {},
   "source": [
    "According to the latest student loan debt statistics, student loan debt is now the second highest consumer debt category - second only to mortgages and higher than credit card debt. There are more than 44 million borrowers who collectively owe 1.6 trillion in student loan debt. We took a look at how that debt is geographically distributed across the US. The Department of Education's Office for Federal Student Aid publishes quarterly student debt totals and the number of borrowers for each state. Using that data, we found the total student-debt median in each state, along with the median per gender of barrowers."
   ]
  },
  {
   "cell_type": "code",
   "execution_count": null,
   "metadata": {},
   "outputs": [],
   "source": [
    "plt.close()"
   ]
  },
  {
   "cell_type": "markdown",
   "metadata": {},
   "source": [
    "## Which is the gender distribution of median Debt comparing with the total median Debt?"
   ]
  },
  {
   "cell_type": "code",
   "execution_count": null,
   "metadata": {},
   "outputs": [],
   "source": [
    "#Read the columns we need for building a plot\n",
    "csc_data_finaly =pd.DataFrame(csc_data_final.groupby(['State Name'])['Median Debt', 'Median Debt for Female Students', 'Median Debt for Male Students' ].mean())\n",
    "csc_data_finaly =csc_data_finaly.reset_index()\n",
    "\n",
    "#plot\n",
    "ax = csc_data_finaly.plot(x=\"State Name\", y=\"Median Debt\", kind=\"bar\",figsize=(15,6))\n",
    "csc_data_finaly.plot(x=\"State Name\", y=\"Median Debt for Female Students\", kind=\"bar\", ax=ax, color=\"C2\")\n",
    "csc_data_finaly.plot(x=\"State Name\", y=\"Median Debt for Male Students\", kind=\"bar\", ax=ax, color=\"C3\")\n",
    "\n",
    "plt.show()\n",
    "plt.savefig('outputs/MedianFemalMale.png')"
   ]
  },
  {
   "cell_type": "markdown",
   "metadata": {},
   "source": [
    " This plot is showing that nationally there are more women with debt than men. Also, we can see the total Median Debt by state.  In 52 states, the average debt is more than $20,000 bilion . Alabama residents owe 26.7 billion dollars in student loan debt on avarage. Alaska residents, for example, owe less than 20 billion in student loan debt on avarage.\n"
   ]
  },
  {
   "cell_type": "code",
   "execution_count": null,
   "metadata": {},
   "outputs": [],
   "source": [
    "plt.close()"
   ]
  },
  {
   "cell_type": "code",
   "execution_count": null,
   "metadata": {},
   "outputs": [],
   "source": [
    "plt.close()"
   ]
  },
  {
   "cell_type": "markdown",
   "metadata": {},
   "source": [
    "# What is the T-test for the mean of ONE group for 'Median Debd'?\n",
    "### The Ho is : The population and the sample of the population have equal avarages of Median Debd"
   ]
  },
  {
   "cell_type": "code",
   "execution_count": null,
   "metadata": {},
   "outputs": [],
   "source": [
    "\n",
    "# Generate some data to test with\n",
    "def gendata(loc=0):\n",
    "    population = csc_data_final['Median Debt']\n",
    "    sample = population.sample(frac =.25) \n",
    "    \n",
    "    # Scatter Plot of Data\n",
    "    plt.subplot(2, 1, 1)\n",
    "    plt.scatter(range(len(population)), population, label=\"population\")\n",
    "    plt.scatter(range(len(sample)), sample, label=\"sample\")\n",
    "    plt.legend()\n",
    "\n",
    "    # Histogram Plot of Data\n",
    "    plt.subplot(2, 1, 2)\n",
    "    plt.hist(population, 20, density=True, alpha=0.7, label=\"population\")\n",
    "    plt.hist(sample, 20, density=True, alpha=0.7, label=\"sample\")\n",
    "    plt.axvline(population.mean(), color='k', linestyle='dashed', linewidth=1)\n",
    "    plt.axvline(sample.mean(), color='k', linestyle='dashed', linewidth=1)\n",
    "    plt.legend()  \n",
    "    \n",
    "    return population, sample"
   ]
  },
  {
   "cell_type": "code",
   "execution_count": null,
   "metadata": {},
   "outputs": [],
   "source": [
    "# Generate some data and show the scatter plot\n",
    "population, sample = gendata()\n",
    "#plt.show()\n",
    "plt.savefig('outputs/T-test1.png')"
   ]
  },
  {
   "cell_type": "code",
   "execution_count": null,
   "metadata": {},
   "outputs": [],
   "source": [
    "stats.ttest_1samp(sample, population.mean())"
   ]
  },
  {
   "cell_type": "code",
   "execution_count": null,
   "metadata": {},
   "outputs": [],
   "source": [
    "# Generate data with a bigger difference in means\n",
    "population, sample = gendata(loc=10000)\n",
    "plt.savefig('outputs/T-test2.png')"
   ]
  },
  {
   "cell_type": "code",
   "execution_count": null,
   "metadata": {},
   "outputs": [],
   "source": [
    "stats.ttest_1samp(sample, population.mean())"
   ]
  },
  {
   "cell_type": "markdown",
   "metadata": {},
   "source": [
    "#### This is a two-sided test for the null hypothesis that the expected value (mean) of a sample of independent observations a is equal to the given population mean. p_value> 0.05. We fail to reject the null hypothesis."
   ]
  },
  {
   "cell_type": "code",
   "execution_count": null,
   "metadata": {},
   "outputs": [],
   "source": [
    "plt.close()"
   ]
  },
  {
   "cell_type": "code",
   "execution_count": null,
   "metadata": {},
   "outputs": [],
   "source": [
    "plt.close()"
   ]
  },
  {
   "cell_type": "markdown",
   "metadata": {},
   "source": [
    "# Which is the distribution of student Debt by Age and Location?"
   ]
  },
  {
   "cell_type": "code",
   "execution_count": null,
   "metadata": {},
   "outputs": [],
   "source": [
    "#Portfolio-by-Location-by-Age\n",
    "data5_df = pd.read_csv(\"Resources/Portfolio-by-Location-by-Age.csv\")\n",
    "data5_df.rename(columns = {' ' : 'Location',\n",
    "                              '24 - Younger':'24 or Younger Dollars Outstanding (in billions)',\n",
    "                              'Unnamed: 2':'24 or Younger Barrowers(#)(in millions)',\n",
    "                              '25 -34' :'25 to 34 Dollars Outstanding(in billions)',\n",
    "                              'Unnamed: 4' :'25 to 34 Barrowers(#)(in millions)',\n",
    "                              '35 - 49' :'35 to 49 Dollars Outstanding(in billions)',\n",
    "                              'Unnamed: 6' :'35 to 49 Barrowers(#)(in millions)',\n",
    "                              '50 -61' :'50 to 61 Dollars Outstanding(in billions)',\n",
    "                              'Unnamed: 8' :'50 to 61 Barrowers(#)(in millions)',\n",
    "                              '62 - Older' :'62+Dollars Outstanding(in billions)',\n",
    "                              'Unnamed: 10' :'62+Barrowers(#)(in millions)'\n",
    "                              }, inplace = True)\n",
    "data5_df = data5_df.drop(data5_df.index[0])\n",
    "data5_df = data5_df.drop(data5_df.index[53])\n",
    "data = list(data5_df.columns.values)\n",
    "#print(data[1:])\n",
    "data5_df[data[1:]]\n",
    "data5_df[data[1:]] = data5_df[data[1:]].replace('[\\$,]','', regex=True).astype(float)\n",
    "data5_df = data5_df.drop(data5_df.index[52])\n",
    "data5_df.tail()\n",
    "ax = data5_df.plot(x=\"Location\", y=\"24 or Younger Dollars Outstanding (in billions)\", kind=\"bar\",figsize=(16,4))\n",
    "data5_df.plot(x=\"Location\", y=\"25 to 34 Dollars Outstanding(in billions)\", kind=\"bar\", ax=ax, color=\"C2\")\n",
    "data5_df.plot(x=\"Location\", y=\"35 to 49 Dollars Outstanding(in billions)\", kind=\"bar\", ax=ax, color=\"C3\")\n",
    "data5_df.plot(x=\"Location\", y=\"50 to 61 Dollars Outstanding(in billions)\", kind=\"bar\", ax=ax, color=\"C4\")\n",
    "data5_df.plot(x=\"Location\", y=\"62+Dollars Outstanding(in billions)\", kind=\"bar\", ax=ax, color=\"C5\")\n",
    "\n",
    "plt.show()\n",
    "plt.savefig('outputs/DollarsOutstandindByAgeLocation.png')"
   ]
  },
  {
   "cell_type": "markdown",
   "metadata": {},
   "source": [
    "Rounding out the five states with the most student debt in total are California, Texas, New York, Florida, and Georgia, in that order. On the flip side, Wyoming has the least debt in total ($3,610), which is 33.0 lower than the national average. Hawaii follows right behind at ($3,780), and 29.9% below the national average."
   ]
  },
  {
   "cell_type": "code",
   "execution_count": null,
   "metadata": {},
   "outputs": [],
   "source": [
    "plt.close()"
   ]
  },
  {
   "cell_type": "code",
   "execution_count": null,
   "metadata": {},
   "outputs": [],
   "source": []
  },
  {
   "cell_type": "code",
   "execution_count": null,
   "metadata": {},
   "outputs": [],
   "source": [
    "plt.close()"
   ]
  },
  {
   "cell_type": "code",
   "execution_count": null,
   "metadata": {},
   "outputs": [],
   "source": [
    "data1_df = pd.read_csv(\"Resources/5StatesData.csv\")\n",
    "data1_df = data1_df.dropna()\n",
    "data1_df.tail()"
   ]
  },
  {
   "cell_type": "code",
   "execution_count": null,
   "metadata": {},
   "outputs": [],
   "source": [
    "#Per capita debt of graduates over time\n",
    "fig = plt.figure()\n",
    "# Divide the figure into a 2x1 grid, and give me the first section\n",
    "ax1 = fig.add_subplot(211)\n",
    "# Divide the figure into a 2x1 grid, and give me the second section\n",
    "ax2 = fig.add_subplot(212)\n",
    "\n",
    "#Line plot \n",
    "data1_df.groupby('Name').plot(x='Year', y='Per capita debt of graduates', ax=ax1, figsize= (15,8))\n",
    "ax1.set_ylim((0,35000))\n",
    "ax1.xaxis.set_label_text(\"Year\")\n",
    "ax1.set_title(\"Per capita debt of graduates over time\")\n",
    "fig.legend(['California', 'Florida', 'Massachusetts','Minnesota','Washington'],\n",
    "           loc='upper right')\n",
    "\n",
    "\n",
    "#Bar Plot\n",
    "data1_df.groupby('Name')['Per capita debt of graduates'].mean().sort_values().plot(kind='barh', ax=ax2, figsize=(15,8))\n",
    "ax2.yaxis.set_label_text(\"States\")\n",
    "ax2.xaxis.set_label_text(\"Volume of Debt\")\n",
    "ax2.set_title(\"Per capita debt of graduates on average\")\n",
    "fig.subplots_adjust(hspace=0.5)\n",
    "plt.savefig('outputs/PerCapitaDebt.png')"
   ]
  },
  {
   "cell_type": "markdown",
   "metadata": {},
   "source": [
    "Rounding out the states with  student debt per capita, we find that Minnesota is among leaders.\n",
    "Interestingly, a growing population on the West Coast helps to lower the debt burden for states like California, even despite the strong presence of prestigious schools. Home to Stanford, USC, UCLA, CalTech, and more, the Golden State surprisingly has only around $10,000 bilions in debt per capita."
   ]
  },
  {
   "cell_type": "code",
   "execution_count": null,
   "metadata": {},
   "outputs": [],
   "source": [
    "plt.close()"
   ]
  },
  {
   "cell_type": "code",
   "execution_count": null,
   "metadata": {
    "scrolled": true
   },
   "outputs": [],
   "source": [
    "# Calculate the correlation coefficient and linear regression model for Cost of Attendance and Out-of-State Tuition\n",
    "one_df = csc_data_final['Cost of Attendance']\n",
    "two_df = csc_data_final['Out-of-State Tuition']\n",
    "\n",
    "(slope, intercept, rvalue, pvalue, stderr) = stats.linregress(one_df,two_df)\n",
    "regress_values = one_df * slope + intercept\n",
    "print(regress_values)\n",
    "\n",
    "# Create line equation \n",
    "line_eq = \"y = \" + str(round(slope,2)) + \"x + \" + str(round(intercept,2))\n",
    "print(line_eq)\n",
    "\n",
    "# Plot the linear model with scatter plot\n",
    "plt.figure(figsize=(8,6))\n",
    "plt.scatter(one_df, two_df)\n",
    "f1 = plt.plot(one_df, regress_values, 'r--', alpha=0.2)\n",
    "\n",
    "# Label plot and annotate the line equation\n",
    "plt.annotate(line_eq,(50000,10000),fontsize=15,color=\"red\")\n",
    "plt.xlabel('Cost of Attendance', size=15)\n",
    "plt.ylabel('Out-of-State Tuition', size=15)\n",
    "plt.title('Cost of Attendance vs Out-of-State Tuition', size=15)\n",
    "plt.xticks(size=12)\n",
    "plt.yticks(size=12)\n",
    "print(f\"The correlation between Cost of Attendance and  Out-of-State Tuition is: {rvalue}\")\n",
    "\n",
    "plt.show()\n",
    "plt.savefig('outputs/CostOfAttendanceVSInStateTuition.png')"
   ]
  },
  {
   "cell_type": "code",
   "execution_count": null,
   "metadata": {},
   "outputs": [],
   "source": [
    "# Calculate the correlation coefficient and linear regression model for Cost of Attendance and In-State Tuition\n",
    "one1_df = csc_data_final['Cost of Attendance']\n",
    "two1_df = csc_data_final['In-State Tuition']\n",
    "\n",
    "(slope, intercept, rvalue, pvalue, stderr) = stats.linregress(one1_df,two1_df)\n",
    "regress_values = one1_df * slope + intercept\n",
    "print(regress_values)\n",
    "\n",
    "# Create line equation \n",
    "line_eq = \"y = \" + str(round(slope,2)) + \"x + \" + str(round(intercept,2))\n",
    "print(line_eq)\n",
    "\n",
    "# Plot the linear model with scatter plot\n",
    "plt.figure(figsize=(8,6))\n",
    "plt.scatter(one1_df, two1_df)\n",
    "f2 = plt.plot(one1_df, regress_values, 'r--', alpha=0.2)\n",
    "\n",
    "# Label plot and annotate the line equation\n",
    "plt.annotate(line_eq,(50000,10000),fontsize=15,color=\"red\")\n",
    "plt.xlabel('Cost of Attendance', size=15)\n",
    "plt.ylabel('In-State Tuition', size=15)\n",
    "plt.title('Cost of Attendance vs In-State Tuition', size=15)\n",
    "plt.xticks(size=12)\n",
    "plt.yticks(size=12)\n",
    "print(f\"The correlation between Cost of Attendance and  In-State Tuition is: {rvalue}\")\n",
    "\n",
    "plt.show()\n",
    "plt.savefig('outputs/CostOfAttendanceVSOutofStateTuition.png')"
   ]
  },
  {
   "cell_type": "markdown",
   "metadata": {},
   "source": [
    " The resulting data frame consists of 1747 observations. As seen from the scatterplot, a school’s Cost of Attendance is positively associated with its In-State Tuition and Out-of-State Tuition. This is consistent with what we hypothesized since it’s well understood that an increase of the Cost of Atttendace will generate an increase of the tuition as well.  The hight r-squarred of 0.89( and 0.98 respectivley for In State Tuition) confirm that this relationship has a significant correlation. The coefficients we obtained from this simple linear regression analysis using statsmodels package tell us that an increase of 10 000 points  in Cost of Attendance is associated with an increase in tuition by around 10 000 points as well."
   ]
  },
  {
   "cell_type": "code",
   "execution_count": null,
   "metadata": {},
   "outputs": [],
   "source": [
    "\n"
   ]
  },
  {
   "cell_type": "code",
   "execution_count": null,
   "metadata": {},
   "outputs": [],
   "source": [
    "# Calculate the correlation coefficient and linear regression model for Cost of Attendance and Median Debt with income greater than 75k\n",
    "one3_df = csc_data_final['Cost of Attendance']\n",
    "two3_df = csc_data_final['Median Debt with income greater than 75k']\n",
    "\n",
    "(slope, intercept, rvalue, pvalue, stderr) = stats.linregress(one3_df,two3_df)\n",
    "regress_values = one3_df * slope + intercept\n",
    "print(regress_values)\n",
    "\n",
    "# Create line equation \n",
    "line_eq = \"y = \" + str(round(slope,2)) + \"x + \" + str(round(intercept,2))\n",
    "print(line_eq)\n",
    "\n",
    "# Plot the linear model with scatter plot\n",
    "plt.figure(figsize=(8,6))\n",
    "plt.scatter(one3_df, two3_df)\n",
    "f3 = plt.plot(one3_df, regress_values, 'r--', alpha=0.2, ax=ax[0][0])\n",
    "\n",
    "# Label plot and annotate the line equation\n",
    "plt.annotate(line_eq,(50000,10000),fontsize=15,color=\"red\")\n",
    "plt.xlabel('Cost of Attendance', size=15)\n",
    "plt.ylabel('Median Debt with income greater than 75k', size=15)\n",
    "plt.title('Cost of Attendance vs Median Debt with income greater than 75k', size=15)\n",
    "plt.xticks(size=12)\n",
    "plt.yticks(size=12)\n",
    "print(f\"The correlation between Cost of Attendance and  Median Debt with income greater than 75k is: {rvalue}\")\n",
    "\n",
    "plt.show()\n",
    "plt.savefig('outputs/CostofAttendanceVSMedianDebtwithIncomeGreaterThan75k.png')"
   ]
  },
  {
   "cell_type": "markdown",
   "metadata": {},
   "source": [
    "### The low p-value confirms that this relationship is statistically significant"
   ]
  },
  {
   "cell_type": "code",
   "execution_count": null,
   "metadata": {
    "scrolled": true
   },
   "outputs": [],
   "source": [
    "one4_df = csc_data_final['Completion Rate']\n",
    "two4_df = csc_data_final['Cost of Attendance']\n",
    "\n",
    "fig, ax = plt.subplots(figsize=(6,4))\n",
    "ax.scatter(one4_df, two4_df )\n",
    "ax.set_xlabel('Completion Rate ',fontsize=12)\n",
    "ax.set_ylabel('Cost of Attendance',fontsize=12)\n",
    "ax.set_title(\"Cost of Attendance vs Completion Rate\",fontsize=15);\n",
    "plt.show()\n",
    "plt.savefig('outputs/CostofAttendanceVSCompletionRate.png')"
   ]
  },
  {
   "cell_type": "code",
   "execution_count": null,
   "metadata": {},
   "outputs": [],
   "source": [
    "#import seaborn as sns"
   ]
  },
  {
   "cell_type": "code",
   "execution_count": null,
   "metadata": {},
   "outputs": [],
   "source": [
    "fig = plt.subplots(2,2,figsize=(12,15))\n",
    "plt.subplots_adjust(hspace = 0.4, top = 0.8)\n",
    "\n",
    "#plt.subplot(2, 2, 1)\n",
    "plt.plot(f1, ax=ax[0][0])\n",
    "\n",
    "#plt.subplot(2, 2, 2)\n",
    "plt.plot(f2,ax=ax[0][1])\n",
    "\n",
    "#plt.subplot(2, 2, 3)\n",
    "plt.plot(f3,ax=ax[1][0])\n",
    "\n",
    "#plt.subplot(2, 2, 4)\n",
    "plt.plot(f4,ax=ax[1][1])\n",
    "\n",
    "plt.show()"
   ]
  },
  {
   "cell_type": "code",
   "execution_count": null,
   "metadata": {},
   "outputs": [],
   "source": []
  },
  {
   "cell_type": "markdown",
   "metadata": {},
   "source": [
    "The correlation between Cost of Attendance and Completion Rate is: 0.602\n",
    " y = 0.0x + 0.24\n",
    "The coefficients we obtained from this simple linear regression analysis using statsmodels package tell us that an increase of 10 percent in completion rate is associated with a increase in Cost of Attendance rate by around 10000 point of value. On the graph we can remarque 2 distinctive groups of dots. "
   ]
  },
  {
   "cell_type": "markdown",
   "metadata": {},
   "source": [
    "# Conclusion:"
   ]
  },
  {
   "cell_type": "markdown",
   "metadata": {},
   "source": [
    " Today’s Americans are more educated than ever before, but the sticker shock is causing some whiplash. This overall trend of spiraling student debt has significant implications on a person’s life trajectory. With many graduates unable to repay their loans on time, more of them are delaying major life milestones, such as starting a family or becoming a homeowner."
   ]
  },
  {
   "cell_type": "markdown",
   "metadata": {},
   "source": [
    "### Ana's Code - End"
   ]
  },
  {
   "cell_type": "markdown",
   "metadata": {},
   "source": [
    "----------------------------------------------"
   ]
  },
  {
   "cell_type": "markdown",
   "metadata": {},
   "source": [
    "### Vikash's Code - Start"
   ]
  },
  {
   "cell_type": "code",
   "execution_count": null,
   "metadata": {},
   "outputs": [],
   "source": []
  },
  {
   "cell_type": "code",
   "execution_count": null,
   "metadata": {},
   "outputs": [],
   "source": []
  },
  {
   "cell_type": "code",
   "execution_count": null,
   "metadata": {},
   "outputs": [],
   "source": []
  },
  {
   "cell_type": "code",
   "execution_count": null,
   "metadata": {},
   "outputs": [],
   "source": []
  },
  {
   "cell_type": "markdown",
   "metadata": {},
   "source": [
    "### Vikash's Code - End"
   ]
  }
 ],
 "metadata": {
  "kernelspec": {
   "display_name": "Python 3",
   "language": "python",
   "name": "python3"
  },
  "language_info": {
   "codemirror_mode": {
    "name": "ipython",
    "version": 3
   },
   "file_extension": ".py",
   "mimetype": "text/x-python",
   "name": "python",
   "nbconvert_exporter": "python",
   "pygments_lexer": "ipython3",
   "version": "3.6.9"
  }
 },
 "nbformat": 4,
 "nbformat_minor": 2
}
